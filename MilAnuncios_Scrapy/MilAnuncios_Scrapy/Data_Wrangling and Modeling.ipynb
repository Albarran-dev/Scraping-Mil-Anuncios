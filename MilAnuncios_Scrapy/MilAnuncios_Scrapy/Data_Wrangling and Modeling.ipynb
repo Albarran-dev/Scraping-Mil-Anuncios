{
 "cells": [
  {
   "cell_type": "code",
   "execution_count": 159,
   "id": "developed-surrey",
   "metadata": {},
   "outputs": [],
   "source": [
    "import pandas as pd "
   ]
  },
  {
   "cell_type": "code",
   "execution_count": 160,
   "id": "matched-tucson",
   "metadata": {},
   "outputs": [
    {
     "data": {
      "text/html": [
       "<div>\n",
       "<style scoped>\n",
       "    .dataframe tbody tr th:only-of-type {\n",
       "        vertical-align: middle;\n",
       "    }\n",
       "\n",
       "    .dataframe tbody tr th {\n",
       "        vertical-align: top;\n",
       "    }\n",
       "\n",
       "    .dataframe thead th {\n",
       "        text-align: right;\n",
       "    }\n",
       "</style>\n",
       "<table border=\"1\" class=\"dataframe\">\n",
       "  <thead>\n",
       "    <tr style=\"text-align: right;\">\n",
       "      <th></th>\n",
       "      <th>name</th>\n",
       "      <th>location</th>\n",
       "      <th>link</th>\n",
       "      <th>precio</th>\n",
       "      <th>metros_cuadrados</th>\n",
       "      <th>n_dormitorios</th>\n",
       "      <th>n_baños</th>\n",
       "    </tr>\n",
       "  </thead>\n",
       "  <tbody>\n",
       "    <tr>\n",
       "      <th>0</th>\n",
       "      <td>- .  REF: 437-00038P.  LA PROPIEDAD \\n \\n</td>\n",
       "      <td>manilva</td>\n",
       "      <td>/alquiler-de-apartamentos-en-manilva-malaga/-3...</td>\n",
       "      <td>900</td>\n",
       "      <td>140m</td>\n",
       "      <td>3 dorm.</td>\n",
       "      <td>2 baños</td>\n",
       "    </tr>\n",
       "    <tr>\n",
       "      <th>1</th>\n",
       "      <td>SANCHINARRO - CORTE INGLES</td>\n",
       "      <td>Madrid</td>\n",
       "      <td>/alquiler-de-pisos-en-madrid-madrid/sanchinarr...</td>\n",
       "      <td>1020</td>\n",
       "      <td>85m</td>\n",
       "      <td>1 dorm.</td>\n",
       "      <td>1 baños</td>\n",
       "    </tr>\n",
       "    <tr>\n",
       "      <th>2</th>\n",
       "      <td>BAILÉN - MIRAFLORES</td>\n",
       "      <td>malaga</td>\n",
       "      <td>/alquiler-de-pisos-en-malaga-malaga/bailen-mir...</td>\n",
       "      <td>690</td>\n",
       "      <td>70m</td>\n",
       "      <td>3 dorm.</td>\n",
       "      <td>1 baños</td>\n",
       "    </tr>\n",
       "    <tr>\n",
       "      <th>3</th>\n",
       "      <td>ZONA PLAZA XÚQUER</td>\n",
       "      <td>paiporta</td>\n",
       "      <td>/alquiler-de-pisos-en-paiporta-valencia/zona-p...</td>\n",
       "      <td>625</td>\n",
       "      <td>80m</td>\n",
       "      <td>3 dorm.</td>\n",
       "      <td>2 baños</td>\n",
       "    </tr>\n",
       "    <tr>\n",
       "      <th>4</th>\n",
       "      <td>SANTA MARÍA DE GETXO</td>\n",
       "      <td>getxo</td>\n",
       "      <td>/alquiler-de-aticos-en-getxo-vizcaya/santa-mar...</td>\n",
       "      <td>900</td>\n",
       "      <td>72m</td>\n",
       "      <td>2 dorm.</td>\n",
       "      <td>1 baños</td>\n",
       "    </tr>\n",
       "    <tr>\n",
       "      <th>...</th>\n",
       "      <td>...</td>\n",
       "      <td>...</td>\n",
       "      <td>...</td>\n",
       "      <td>...</td>\n",
       "      <td>...</td>\n",
       "      <td>...</td>\n",
       "      <td>...</td>\n",
       "    </tr>\n",
       "    <tr>\n",
       "      <th>4517</th>\n",
       "      <td>ZONA UNIVERSIDAD</td>\n",
       "      <td>Ciudad Real</td>\n",
       "      <td>/alquiler-de-apartamentos-en-ciudad-real-ciuda...</td>\n",
       "      <td>250</td>\n",
       "      <td>60m</td>\n",
       "      <td>1 dorm.</td>\n",
       "      <td>1 baños</td>\n",
       "    </tr>\n",
       "    <tr>\n",
       "      <th>4518</th>\n",
       "      <td>ATICO DUPLEXSAN BLAS SANTO DOMINGO - CUENCA</td>\n",
       "      <td>Alicante/Alacant</td>\n",
       "      <td>/alquiler-de-aticos-en-alicante|alacant-alican...</td>\n",
       "      <td>850</td>\n",
       "      <td>130m</td>\n",
       "      <td>4 dorm.</td>\n",
       "      <td>2 baños</td>\n",
       "    </tr>\n",
       "    <tr>\n",
       "      <th>4519</th>\n",
       "      <td>LOS BOLICHES - FRANCISCO CANO</td>\n",
       "      <td>Fuengirola</td>\n",
       "      <td>/alquiler-de-pisos-en-fuengirola-malaga/los-bo...</td>\n",
       "      <td>750</td>\n",
       "      <td>105m</td>\n",
       "      <td>3 dorm.</td>\n",
       "      <td>2 baños</td>\n",
       "    </tr>\n",
       "    <tr>\n",
       "      <th>4520</th>\n",
       "      <td>PISO ALQUILER ALCASSER</td>\n",
       "      <td>Alcasser/Alcacer</td>\n",
       "      <td>/alquiler-de-pisos-en-alcasser|alcacer-valenci...</td>\n",
       "      <td>500</td>\n",
       "      <td>150m</td>\n",
       "      <td>4 dorm.</td>\n",
       "      <td>2 baños</td>\n",
       "    </tr>\n",
       "    <tr>\n",
       "      <th>4521</th>\n",
       "      <td>ZONA CENTRO</td>\n",
       "      <td>Ciudad Real</td>\n",
       "      <td>/alquiler-de-estudios-en-ciudad-real-ciudad_re...</td>\n",
       "      <td>320</td>\n",
       "      <td>40m</td>\n",
       "      <td>NaN</td>\n",
       "      <td>1 baños</td>\n",
       "    </tr>\n",
       "  </tbody>\n",
       "</table>\n",
       "<p>4522 rows × 7 columns</p>\n",
       "</div>"
      ],
      "text/plain": [
       "                                             name          location  \\\n",
       "0       - .  REF: 437-00038P.  LA PROPIEDAD \\n \\n           manilva   \n",
       "1                      SANCHINARRO - CORTE INGLES            Madrid   \n",
       "2                             BAILÉN - MIRAFLORES            malaga   \n",
       "3                               ZONA PLAZA XÚQUER          paiporta   \n",
       "4                            SANTA MARÍA DE GETXO             getxo   \n",
       "...                                           ...               ...   \n",
       "4517                             ZONA UNIVERSIDAD       Ciudad Real   \n",
       "4518  ATICO DUPLEXSAN BLAS SANTO DOMINGO - CUENCA  Alicante/Alacant   \n",
       "4519                LOS BOLICHES - FRANCISCO CANO        Fuengirola   \n",
       "4520                       PISO ALQUILER ALCASSER  Alcasser/Alcacer   \n",
       "4521                                  ZONA CENTRO       Ciudad Real   \n",
       "\n",
       "                                                   link  precio  \\\n",
       "0     /alquiler-de-apartamentos-en-manilva-malaga/-3...     900   \n",
       "1     /alquiler-de-pisos-en-madrid-madrid/sanchinarr...    1020   \n",
       "2     /alquiler-de-pisos-en-malaga-malaga/bailen-mir...     690   \n",
       "3     /alquiler-de-pisos-en-paiporta-valencia/zona-p...     625   \n",
       "4     /alquiler-de-aticos-en-getxo-vizcaya/santa-mar...     900   \n",
       "...                                                 ...     ...   \n",
       "4517  /alquiler-de-apartamentos-en-ciudad-real-ciuda...     250   \n",
       "4518  /alquiler-de-aticos-en-alicante|alacant-alican...     850   \n",
       "4519  /alquiler-de-pisos-en-fuengirola-malaga/los-bo...     750   \n",
       "4520  /alquiler-de-pisos-en-alcasser|alcacer-valenci...     500   \n",
       "4521  /alquiler-de-estudios-en-ciudad-real-ciudad_re...     320   \n",
       "\n",
       "     metros_cuadrados n_dormitorios  n_baños  \n",
       "0                140m       3 dorm.  2 baños  \n",
       "1                 85m       1 dorm.  1 baños  \n",
       "2                 70m       3 dorm.  1 baños  \n",
       "3                 80m       3 dorm.  2 baños  \n",
       "4                 72m       2 dorm.  1 baños  \n",
       "...               ...           ...      ...  \n",
       "4517              60m       1 dorm.  1 baños  \n",
       "4518             130m       4 dorm.  2 baños  \n",
       "4519             105m       3 dorm.  2 baños  \n",
       "4520             150m       4 dorm.  2 baños  \n",
       "4521              40m           NaN  1 baños  \n",
       "\n",
       "[4522 rows x 7 columns]"
      ]
     },
     "execution_count": 160,
     "metadata": {},
     "output_type": "execute_result"
    }
   ],
   "source": [
    "df = pd.read_csv('milanuncios.csv')\n",
    "df"
   ]
  },
  {
   "cell_type": "code",
   "execution_count": 28,
   "id": "sustained-variable",
   "metadata": {},
   "outputs": [
    {
     "data": {
      "text/plain": [
       "name                object\n",
       "location            object\n",
       "link                object\n",
       "precio               int64\n",
       "metros_cuadrados    object\n",
       "n_dormitorios       object\n",
       "n_baños             object\n",
       "dtype: object"
      ]
     },
     "execution_count": 28,
     "metadata": {},
     "output_type": "execute_result"
    }
   ],
   "source": [
    "df.dtypes"
   ]
  },
  {
   "cell_type": "markdown",
   "id": "complete-consumer",
   "metadata": {},
   "source": [
    "Vamos a eliminar las unidades de los datos extraidos para poder tratarlos como números:"
   ]
  },
  {
   "cell_type": "code",
   "execution_count": 161,
   "id": "characteristic-species",
   "metadata": {},
   "outputs": [
    {
     "name": "stderr",
     "output_type": "stream",
     "text": [
      "<ipython-input-161-ed4aa5cf5874>:2: FutureWarning: The default value of regex will change from True to False in a future version.\n",
      "  df['n_dormitorios'] = df['n_dormitorios'].str.replace('dorm.', '')\n"
     ]
    },
    {
     "data": {
      "text/html": [
       "<div>\n",
       "<style scoped>\n",
       "    .dataframe tbody tr th:only-of-type {\n",
       "        vertical-align: middle;\n",
       "    }\n",
       "\n",
       "    .dataframe tbody tr th {\n",
       "        vertical-align: top;\n",
       "    }\n",
       "\n",
       "    .dataframe thead th {\n",
       "        text-align: right;\n",
       "    }\n",
       "</style>\n",
       "<table border=\"1\" class=\"dataframe\">\n",
       "  <thead>\n",
       "    <tr style=\"text-align: right;\">\n",
       "      <th></th>\n",
       "      <th>name</th>\n",
       "      <th>location</th>\n",
       "      <th>link</th>\n",
       "      <th>precio</th>\n",
       "      <th>metros_cuadrados</th>\n",
       "      <th>n_dormitorios</th>\n",
       "      <th>n_baños</th>\n",
       "    </tr>\n",
       "  </thead>\n",
       "  <tbody>\n",
       "    <tr>\n",
       "      <th>0</th>\n",
       "      <td>- .  REF: 437-00038P.  LA PROPIEDAD \\n \\n</td>\n",
       "      <td>manilva</td>\n",
       "      <td>/alquiler-de-apartamentos-en-manilva-malaga/-3...</td>\n",
       "      <td>900</td>\n",
       "      <td>140</td>\n",
       "      <td>3</td>\n",
       "      <td>2</td>\n",
       "    </tr>\n",
       "    <tr>\n",
       "      <th>1</th>\n",
       "      <td>SANCHINARRO - CORTE INGLES</td>\n",
       "      <td>Madrid</td>\n",
       "      <td>/alquiler-de-pisos-en-madrid-madrid/sanchinarr...</td>\n",
       "      <td>1020</td>\n",
       "      <td>85</td>\n",
       "      <td>1</td>\n",
       "      <td>1</td>\n",
       "    </tr>\n",
       "    <tr>\n",
       "      <th>2</th>\n",
       "      <td>BAILÉN - MIRAFLORES</td>\n",
       "      <td>malaga</td>\n",
       "      <td>/alquiler-de-pisos-en-malaga-malaga/bailen-mir...</td>\n",
       "      <td>690</td>\n",
       "      <td>70</td>\n",
       "      <td>3</td>\n",
       "      <td>1</td>\n",
       "    </tr>\n",
       "    <tr>\n",
       "      <th>3</th>\n",
       "      <td>ZONA PLAZA XÚQUER</td>\n",
       "      <td>paiporta</td>\n",
       "      <td>/alquiler-de-pisos-en-paiporta-valencia/zona-p...</td>\n",
       "      <td>625</td>\n",
       "      <td>80</td>\n",
       "      <td>3</td>\n",
       "      <td>2</td>\n",
       "    </tr>\n",
       "    <tr>\n",
       "      <th>4</th>\n",
       "      <td>SANTA MARÍA DE GETXO</td>\n",
       "      <td>getxo</td>\n",
       "      <td>/alquiler-de-aticos-en-getxo-vizcaya/santa-mar...</td>\n",
       "      <td>900</td>\n",
       "      <td>72</td>\n",
       "      <td>2</td>\n",
       "      <td>1</td>\n",
       "    </tr>\n",
       "  </tbody>\n",
       "</table>\n",
       "</div>"
      ],
      "text/plain": [
       "                                        name  location  \\\n",
       "0  - .  REF: 437-00038P.  LA PROPIEDAD \\n \\n   manilva   \n",
       "1                 SANCHINARRO - CORTE INGLES    Madrid   \n",
       "2                        BAILÉN - MIRAFLORES    malaga   \n",
       "3                          ZONA PLAZA XÚQUER  paiporta   \n",
       "4                       SANTA MARÍA DE GETXO     getxo   \n",
       "\n",
       "                                                link  precio metros_cuadrados  \\\n",
       "0  /alquiler-de-apartamentos-en-manilva-malaga/-3...     900              140   \n",
       "1  /alquiler-de-pisos-en-madrid-madrid/sanchinarr...    1020               85   \n",
       "2  /alquiler-de-pisos-en-malaga-malaga/bailen-mir...     690               70   \n",
       "3  /alquiler-de-pisos-en-paiporta-valencia/zona-p...     625               80   \n",
       "4  /alquiler-de-aticos-en-getxo-vizcaya/santa-mar...     900               72   \n",
       "\n",
       "  n_dormitorios n_baños  \n",
       "0            3       2   \n",
       "1            1       1   \n",
       "2            3       1   \n",
       "3            3       2   \n",
       "4            2       1   "
      ]
     },
     "execution_count": 161,
     "metadata": {},
     "output_type": "execute_result"
    }
   ],
   "source": [
    "df['metros_cuadrados'] = df['metros_cuadrados'].str.replace('m', '')\n",
    "df['n_dormitorios'] = df['n_dormitorios'].str.replace('dorm.', '')\n",
    "df['n_baños'] = df['n_baños'].str.replace('baños', '')\n",
    "df.head()"
   ]
  },
  {
   "cell_type": "markdown",
   "id": "dutch-howard",
   "metadata": {},
   "source": [
    "Los links extraidos son links parciales, desde la página dónde se han extraido, por ello añadimos el prefijo para convertirlo un link más práctico:"
   ]
  },
  {
   "cell_type": "code",
   "execution_count": 162,
   "id": "exempt-commercial",
   "metadata": {},
   "outputs": [],
   "source": [
    "df['link'] = 'https://www.milanuncios.com/alquiler-de-pisos' + df['link']"
   ]
  },
  {
   "cell_type": "markdown",
   "id": "cross-batch",
   "metadata": {},
   "source": [
    "Para dar uniformidad y evitar duplicados como 'madrid' y 'Madrid', pasamos el texto a todo mayúsculas"
   ]
  },
  {
   "cell_type": "code",
   "execution_count": 163,
   "id": "matched-facial",
   "metadata": {},
   "outputs": [],
   "source": [
    "df['location'] = df['location'].str.upper()"
   ]
  },
  {
   "cell_type": "code",
   "execution_count": 164,
   "id": "limiting-trust",
   "metadata": {},
   "outputs": [
    {
     "data": {
      "text/html": [
       "<div>\n",
       "<style scoped>\n",
       "    .dataframe tbody tr th:only-of-type {\n",
       "        vertical-align: middle;\n",
       "    }\n",
       "\n",
       "    .dataframe tbody tr th {\n",
       "        vertical-align: top;\n",
       "    }\n",
       "\n",
       "    .dataframe thead th {\n",
       "        text-align: right;\n",
       "    }\n",
       "</style>\n",
       "<table border=\"1\" class=\"dataframe\">\n",
       "  <thead>\n",
       "    <tr style=\"text-align: right;\">\n",
       "      <th></th>\n",
       "      <th>name</th>\n",
       "      <th>location</th>\n",
       "      <th>link</th>\n",
       "      <th>precio</th>\n",
       "      <th>metros_cuadrados</th>\n",
       "      <th>n_dormitorios</th>\n",
       "      <th>n_baños</th>\n",
       "    </tr>\n",
       "  </thead>\n",
       "  <tbody>\n",
       "    <tr>\n",
       "      <th>0</th>\n",
       "      <td>- .  REF: 437-00038P.  LA PROPIEDAD \\n \\n</td>\n",
       "      <td>MANILVA</td>\n",
       "      <td>https://www.milanuncios.com/alquiler-de-pisos/...</td>\n",
       "      <td>900</td>\n",
       "      <td>140</td>\n",
       "      <td>3</td>\n",
       "      <td>2</td>\n",
       "    </tr>\n",
       "    <tr>\n",
       "      <th>1</th>\n",
       "      <td>SANCHINARRO - CORTE INGLES</td>\n",
       "      <td>MADRID</td>\n",
       "      <td>https://www.milanuncios.com/alquiler-de-pisos/...</td>\n",
       "      <td>1020</td>\n",
       "      <td>85</td>\n",
       "      <td>1</td>\n",
       "      <td>1</td>\n",
       "    </tr>\n",
       "    <tr>\n",
       "      <th>2</th>\n",
       "      <td>BAILÉN - MIRAFLORES</td>\n",
       "      <td>MALAGA</td>\n",
       "      <td>https://www.milanuncios.com/alquiler-de-pisos/...</td>\n",
       "      <td>690</td>\n",
       "      <td>70</td>\n",
       "      <td>3</td>\n",
       "      <td>1</td>\n",
       "    </tr>\n",
       "    <tr>\n",
       "      <th>3</th>\n",
       "      <td>ZONA PLAZA XÚQUER</td>\n",
       "      <td>PAIPORTA</td>\n",
       "      <td>https://www.milanuncios.com/alquiler-de-pisos/...</td>\n",
       "      <td>625</td>\n",
       "      <td>80</td>\n",
       "      <td>3</td>\n",
       "      <td>2</td>\n",
       "    </tr>\n",
       "    <tr>\n",
       "      <th>4</th>\n",
       "      <td>SANTA MARÍA DE GETXO</td>\n",
       "      <td>GETXO</td>\n",
       "      <td>https://www.milanuncios.com/alquiler-de-pisos/...</td>\n",
       "      <td>900</td>\n",
       "      <td>72</td>\n",
       "      <td>2</td>\n",
       "      <td>1</td>\n",
       "    </tr>\n",
       "  </tbody>\n",
       "</table>\n",
       "</div>"
      ],
      "text/plain": [
       "                                        name  location  \\\n",
       "0  - .  REF: 437-00038P.  LA PROPIEDAD \\n \\n   MANILVA   \n",
       "1                 SANCHINARRO - CORTE INGLES    MADRID   \n",
       "2                        BAILÉN - MIRAFLORES    MALAGA   \n",
       "3                          ZONA PLAZA XÚQUER  PAIPORTA   \n",
       "4                       SANTA MARÍA DE GETXO     GETXO   \n",
       "\n",
       "                                                link  precio metros_cuadrados  \\\n",
       "0  https://www.milanuncios.com/alquiler-de-pisos/...     900              140   \n",
       "1  https://www.milanuncios.com/alquiler-de-pisos/...    1020               85   \n",
       "2  https://www.milanuncios.com/alquiler-de-pisos/...     690               70   \n",
       "3  https://www.milanuncios.com/alquiler-de-pisos/...     625               80   \n",
       "4  https://www.milanuncios.com/alquiler-de-pisos/...     900               72   \n",
       "\n",
       "  n_dormitorios n_baños  \n",
       "0            3       2   \n",
       "1            1       1   \n",
       "2            3       1   \n",
       "3            3       2   \n",
       "4            2       1   "
      ]
     },
     "execution_count": 164,
     "metadata": {},
     "output_type": "execute_result"
    }
   ],
   "source": [
    "df.head()"
   ]
  },
  {
   "cell_type": "markdown",
   "id": "reverse-funds",
   "metadata": {},
   "source": [
    "A continuación extraemos los pisos con información incompleta, como no son muchos, los eliminaremos directamente."
   ]
  },
  {
   "cell_type": "code",
   "execution_count": 173,
   "id": "palestinian-davis",
   "metadata": {},
   "outputs": [
    {
     "data": {
      "text/html": [
       "<div>\n",
       "<style scoped>\n",
       "    .dataframe tbody tr th:only-of-type {\n",
       "        vertical-align: middle;\n",
       "    }\n",
       "\n",
       "    .dataframe tbody tr th {\n",
       "        vertical-align: top;\n",
       "    }\n",
       "\n",
       "    .dataframe thead th {\n",
       "        text-align: right;\n",
       "    }\n",
       "</style>\n",
       "<table border=\"1\" class=\"dataframe\">\n",
       "  <thead>\n",
       "    <tr style=\"text-align: right;\">\n",
       "      <th></th>\n",
       "      <th>name</th>\n",
       "      <th>location</th>\n",
       "      <th>link</th>\n",
       "      <th>precio</th>\n",
       "      <th>metros_cuadrados</th>\n",
       "      <th>n_dormitorios</th>\n",
       "      <th>n_baños</th>\n",
       "      <th>precio/metro2</th>\n",
       "    </tr>\n",
       "  </thead>\n",
       "  <tbody>\n",
       "  </tbody>\n",
       "</table>\n",
       "</div>"
      ],
      "text/plain": [
       "Empty DataFrame\n",
       "Columns: [name, location, link, precio, metros_cuadrados, n_dormitorios, n_baños, precio/metro2]\n",
       "Index: []"
      ]
     },
     "execution_count": 173,
     "metadata": {},
     "output_type": "execute_result"
    }
   ],
   "source": [
    "df[df.isna().any(axis=1)]"
   ]
  },
  {
   "cell_type": "code",
   "execution_count": 174,
   "id": "junior-serve",
   "metadata": {},
   "outputs": [],
   "source": [
    "df.dropna(inplace=True)"
   ]
  },
  {
   "cell_type": "code",
   "execution_count": 167,
   "id": "measured-narrative",
   "metadata": {},
   "outputs": [
    {
     "data": {
      "text/html": [
       "<div>\n",
       "<style scoped>\n",
       "    .dataframe tbody tr th:only-of-type {\n",
       "        vertical-align: middle;\n",
       "    }\n",
       "\n",
       "    .dataframe tbody tr th {\n",
       "        vertical-align: top;\n",
       "    }\n",
       "\n",
       "    .dataframe thead th {\n",
       "        text-align: right;\n",
       "    }\n",
       "</style>\n",
       "<table border=\"1\" class=\"dataframe\">\n",
       "  <thead>\n",
       "    <tr style=\"text-align: right;\">\n",
       "      <th></th>\n",
       "      <th>name</th>\n",
       "      <th>location</th>\n",
       "      <th>link</th>\n",
       "      <th>precio</th>\n",
       "      <th>metros_cuadrados</th>\n",
       "      <th>n_dormitorios</th>\n",
       "      <th>n_baños</th>\n",
       "    </tr>\n",
       "  </thead>\n",
       "  <tbody>\n",
       "    <tr>\n",
       "      <th>0</th>\n",
       "      <td>- .  REF: 437-00038P.  LA PROPIEDAD \\n \\n</td>\n",
       "      <td>MANILVA</td>\n",
       "      <td>https://www.milanuncios.com/alquiler-de-pisos/...</td>\n",
       "      <td>900</td>\n",
       "      <td>140</td>\n",
       "      <td>3</td>\n",
       "      <td>2</td>\n",
       "    </tr>\n",
       "    <tr>\n",
       "      <th>1</th>\n",
       "      <td>SANCHINARRO - CORTE INGLES</td>\n",
       "      <td>MADRID</td>\n",
       "      <td>https://www.milanuncios.com/alquiler-de-pisos/...</td>\n",
       "      <td>1020</td>\n",
       "      <td>85</td>\n",
       "      <td>1</td>\n",
       "      <td>1</td>\n",
       "    </tr>\n",
       "    <tr>\n",
       "      <th>2</th>\n",
       "      <td>BAILÉN - MIRAFLORES</td>\n",
       "      <td>MALAGA</td>\n",
       "      <td>https://www.milanuncios.com/alquiler-de-pisos/...</td>\n",
       "      <td>690</td>\n",
       "      <td>70</td>\n",
       "      <td>3</td>\n",
       "      <td>1</td>\n",
       "    </tr>\n",
       "    <tr>\n",
       "      <th>3</th>\n",
       "      <td>ZONA PLAZA XÚQUER</td>\n",
       "      <td>PAIPORTA</td>\n",
       "      <td>https://www.milanuncios.com/alquiler-de-pisos/...</td>\n",
       "      <td>625</td>\n",
       "      <td>80</td>\n",
       "      <td>3</td>\n",
       "      <td>2</td>\n",
       "    </tr>\n",
       "    <tr>\n",
       "      <th>4</th>\n",
       "      <td>SANTA MARÍA DE GETXO</td>\n",
       "      <td>GETXO</td>\n",
       "      <td>https://www.milanuncios.com/alquiler-de-pisos/...</td>\n",
       "      <td>900</td>\n",
       "      <td>72</td>\n",
       "      <td>2</td>\n",
       "      <td>1</td>\n",
       "    </tr>\n",
       "    <tr>\n",
       "      <th>...</th>\n",
       "      <td>...</td>\n",
       "      <td>...</td>\n",
       "      <td>...</td>\n",
       "      <td>...</td>\n",
       "      <td>...</td>\n",
       "      <td>...</td>\n",
       "      <td>...</td>\n",
       "    </tr>\n",
       "    <tr>\n",
       "      <th>4516</th>\n",
       "      <td>ZONA UNIVERSIDAD</td>\n",
       "      <td>CIUDAD REAL</td>\n",
       "      <td>https://www.milanuncios.com/alquiler-de-pisos/...</td>\n",
       "      <td>400</td>\n",
       "      <td>70</td>\n",
       "      <td>2</td>\n",
       "      <td>1</td>\n",
       "    </tr>\n",
       "    <tr>\n",
       "      <th>4517</th>\n",
       "      <td>ZONA UNIVERSIDAD</td>\n",
       "      <td>CIUDAD REAL</td>\n",
       "      <td>https://www.milanuncios.com/alquiler-de-pisos/...</td>\n",
       "      <td>250</td>\n",
       "      <td>60</td>\n",
       "      <td>1</td>\n",
       "      <td>1</td>\n",
       "    </tr>\n",
       "    <tr>\n",
       "      <th>4518</th>\n",
       "      <td>ATICO DUPLEXSAN BLAS SANTO DOMINGO - CUENCA</td>\n",
       "      <td>ALICANTE/ALACANT</td>\n",
       "      <td>https://www.milanuncios.com/alquiler-de-pisos/...</td>\n",
       "      <td>850</td>\n",
       "      <td>130</td>\n",
       "      <td>4</td>\n",
       "      <td>2</td>\n",
       "    </tr>\n",
       "    <tr>\n",
       "      <th>4519</th>\n",
       "      <td>LOS BOLICHES - FRANCISCO CANO</td>\n",
       "      <td>FUENGIROLA</td>\n",
       "      <td>https://www.milanuncios.com/alquiler-de-pisos/...</td>\n",
       "      <td>750</td>\n",
       "      <td>105</td>\n",
       "      <td>3</td>\n",
       "      <td>2</td>\n",
       "    </tr>\n",
       "    <tr>\n",
       "      <th>4520</th>\n",
       "      <td>PISO ALQUILER ALCASSER</td>\n",
       "      <td>ALCASSER/ALCACER</td>\n",
       "      <td>https://www.milanuncios.com/alquiler-de-pisos/...</td>\n",
       "      <td>500</td>\n",
       "      <td>150</td>\n",
       "      <td>4</td>\n",
       "      <td>2</td>\n",
       "    </tr>\n",
       "  </tbody>\n",
       "</table>\n",
       "<p>4168 rows × 7 columns</p>\n",
       "</div>"
      ],
      "text/plain": [
       "                                             name          location  \\\n",
       "0       - .  REF: 437-00038P.  LA PROPIEDAD \\n \\n           MANILVA   \n",
       "1                      SANCHINARRO - CORTE INGLES            MADRID   \n",
       "2                             BAILÉN - MIRAFLORES            MALAGA   \n",
       "3                               ZONA PLAZA XÚQUER          PAIPORTA   \n",
       "4                            SANTA MARÍA DE GETXO             GETXO   \n",
       "...                                           ...               ...   \n",
       "4516                             ZONA UNIVERSIDAD       CIUDAD REAL   \n",
       "4517                             ZONA UNIVERSIDAD       CIUDAD REAL   \n",
       "4518  ATICO DUPLEXSAN BLAS SANTO DOMINGO - CUENCA  ALICANTE/ALACANT   \n",
       "4519                LOS BOLICHES - FRANCISCO CANO        FUENGIROLA   \n",
       "4520                       PISO ALQUILER ALCASSER  ALCASSER/ALCACER   \n",
       "\n",
       "                                                   link  precio  \\\n",
       "0     https://www.milanuncios.com/alquiler-de-pisos/...     900   \n",
       "1     https://www.milanuncios.com/alquiler-de-pisos/...    1020   \n",
       "2     https://www.milanuncios.com/alquiler-de-pisos/...     690   \n",
       "3     https://www.milanuncios.com/alquiler-de-pisos/...     625   \n",
       "4     https://www.milanuncios.com/alquiler-de-pisos/...     900   \n",
       "...                                                 ...     ...   \n",
       "4516  https://www.milanuncios.com/alquiler-de-pisos/...     400   \n",
       "4517  https://www.milanuncios.com/alquiler-de-pisos/...     250   \n",
       "4518  https://www.milanuncios.com/alquiler-de-pisos/...     850   \n",
       "4519  https://www.milanuncios.com/alquiler-de-pisos/...     750   \n",
       "4520  https://www.milanuncios.com/alquiler-de-pisos/...     500   \n",
       "\n",
       "     metros_cuadrados n_dormitorios n_baños  \n",
       "0                 140            3       2   \n",
       "1                  85            1       1   \n",
       "2                  70            3       1   \n",
       "3                  80            3       2   \n",
       "4                  72            2       1   \n",
       "...               ...           ...     ...  \n",
       "4516               70            2       1   \n",
       "4517               60            1       1   \n",
       "4518              130            4       2   \n",
       "4519              105            3       2   \n",
       "4520              150            4       2   \n",
       "\n",
       "[4168 rows x 7 columns]"
      ]
     },
     "execution_count": 167,
     "metadata": {},
     "output_type": "execute_result"
    }
   ],
   "source": [
    "df"
   ]
  },
  {
   "cell_type": "markdown",
   "id": "cosmetic-cookie",
   "metadata": {},
   "source": [
    "Convertimos algunas de las columnas a formato de número:"
   ]
  },
  {
   "cell_type": "code",
   "execution_count": 168,
   "id": "constant-oakland",
   "metadata": {},
   "outputs": [
    {
     "data": {
      "text/plain": [
       "name                object\n",
       "location            object\n",
       "link                object\n",
       "precio               int64\n",
       "metros_cuadrados     int64\n",
       "n_dormitorios        int64\n",
       "n_baños              int64\n",
       "dtype: object"
      ]
     },
     "execution_count": 168,
     "metadata": {},
     "output_type": "execute_result"
    }
   ],
   "source": [
    "df.metros_cuadrados = df.metros_cuadrados.astype(int)\n",
    "df.n_dormitorios = df.n_dormitorios.astype(int)\n",
    "df.n_baños = df.n_baños.astype(int)\n",
    "df.dtypes"
   ]
  },
  {
   "cell_type": "markdown",
   "id": "plain-growing",
   "metadata": {},
   "source": [
    "Añadimos la métrica de €/metro_cuadrado"
   ]
  },
  {
   "cell_type": "code",
   "execution_count": 169,
   "id": "conceptual-direction",
   "metadata": {},
   "outputs": [
    {
     "data": {
      "text/html": [
       "<div>\n",
       "<style scoped>\n",
       "    .dataframe tbody tr th:only-of-type {\n",
       "        vertical-align: middle;\n",
       "    }\n",
       "\n",
       "    .dataframe tbody tr th {\n",
       "        vertical-align: top;\n",
       "    }\n",
       "\n",
       "    .dataframe thead th {\n",
       "        text-align: right;\n",
       "    }\n",
       "</style>\n",
       "<table border=\"1\" class=\"dataframe\">\n",
       "  <thead>\n",
       "    <tr style=\"text-align: right;\">\n",
       "      <th></th>\n",
       "      <th>name</th>\n",
       "      <th>location</th>\n",
       "      <th>link</th>\n",
       "      <th>precio</th>\n",
       "      <th>metros_cuadrados</th>\n",
       "      <th>n_dormitorios</th>\n",
       "      <th>n_baños</th>\n",
       "      <th>precio/metro2</th>\n",
       "    </tr>\n",
       "  </thead>\n",
       "  <tbody>\n",
       "    <tr>\n",
       "      <th>0</th>\n",
       "      <td>- .  REF: 437-00038P.  LA PROPIEDAD \\n \\n</td>\n",
       "      <td>MANILVA</td>\n",
       "      <td>https://www.milanuncios.com/alquiler-de-pisos/...</td>\n",
       "      <td>900</td>\n",
       "      <td>140</td>\n",
       "      <td>3</td>\n",
       "      <td>2</td>\n",
       "      <td>6.428571</td>\n",
       "    </tr>\n",
       "    <tr>\n",
       "      <th>1</th>\n",
       "      <td>SANCHINARRO - CORTE INGLES</td>\n",
       "      <td>MADRID</td>\n",
       "      <td>https://www.milanuncios.com/alquiler-de-pisos/...</td>\n",
       "      <td>1020</td>\n",
       "      <td>85</td>\n",
       "      <td>1</td>\n",
       "      <td>1</td>\n",
       "      <td>12.000000</td>\n",
       "    </tr>\n",
       "    <tr>\n",
       "      <th>2</th>\n",
       "      <td>BAILÉN - MIRAFLORES</td>\n",
       "      <td>MALAGA</td>\n",
       "      <td>https://www.milanuncios.com/alquiler-de-pisos/...</td>\n",
       "      <td>690</td>\n",
       "      <td>70</td>\n",
       "      <td>3</td>\n",
       "      <td>1</td>\n",
       "      <td>9.857143</td>\n",
       "    </tr>\n",
       "    <tr>\n",
       "      <th>3</th>\n",
       "      <td>ZONA PLAZA XÚQUER</td>\n",
       "      <td>PAIPORTA</td>\n",
       "      <td>https://www.milanuncios.com/alquiler-de-pisos/...</td>\n",
       "      <td>625</td>\n",
       "      <td>80</td>\n",
       "      <td>3</td>\n",
       "      <td>2</td>\n",
       "      <td>7.812500</td>\n",
       "    </tr>\n",
       "    <tr>\n",
       "      <th>4</th>\n",
       "      <td>SANTA MARÍA DE GETXO</td>\n",
       "      <td>GETXO</td>\n",
       "      <td>https://www.milanuncios.com/alquiler-de-pisos/...</td>\n",
       "      <td>900</td>\n",
       "      <td>72</td>\n",
       "      <td>2</td>\n",
       "      <td>1</td>\n",
       "      <td>12.500000</td>\n",
       "    </tr>\n",
       "  </tbody>\n",
       "</table>\n",
       "</div>"
      ],
      "text/plain": [
       "                                        name  location  \\\n",
       "0  - .  REF: 437-00038P.  LA PROPIEDAD \\n \\n   MANILVA   \n",
       "1                 SANCHINARRO - CORTE INGLES    MADRID   \n",
       "2                        BAILÉN - MIRAFLORES    MALAGA   \n",
       "3                          ZONA PLAZA XÚQUER  PAIPORTA   \n",
       "4                       SANTA MARÍA DE GETXO     GETXO   \n",
       "\n",
       "                                                link  precio  \\\n",
       "0  https://www.milanuncios.com/alquiler-de-pisos/...     900   \n",
       "1  https://www.milanuncios.com/alquiler-de-pisos/...    1020   \n",
       "2  https://www.milanuncios.com/alquiler-de-pisos/...     690   \n",
       "3  https://www.milanuncios.com/alquiler-de-pisos/...     625   \n",
       "4  https://www.milanuncios.com/alquiler-de-pisos/...     900   \n",
       "\n",
       "   metros_cuadrados  n_dormitorios  n_baños  precio/metro2  \n",
       "0               140              3        2       6.428571  \n",
       "1                85              1        1      12.000000  \n",
       "2                70              3        1       9.857143  \n",
       "3                80              3        2       7.812500  \n",
       "4                72              2        1      12.500000  "
      ]
     },
     "execution_count": 169,
     "metadata": {},
     "output_type": "execute_result"
    }
   ],
   "source": [
    "df['precio/metro2'] = df['precio'] / df['metros_cuadrados']\n",
    "df.head()"
   ]
  },
  {
   "cell_type": "code",
   "execution_count": 38,
   "id": "acting-switch",
   "metadata": {},
   "outputs": [
    {
     "data": {
      "text/html": [
       "<div>\n",
       "<style scoped>\n",
       "    .dataframe tbody tr th:only-of-type {\n",
       "        vertical-align: middle;\n",
       "    }\n",
       "\n",
       "    .dataframe tbody tr th {\n",
       "        vertical-align: top;\n",
       "    }\n",
       "\n",
       "    .dataframe thead th {\n",
       "        text-align: right;\n",
       "    }\n",
       "</style>\n",
       "<table border=\"1\" class=\"dataframe\">\n",
       "  <thead>\n",
       "    <tr style=\"text-align: right;\">\n",
       "      <th></th>\n",
       "      <th>precio</th>\n",
       "      <th>metros_cuadrados</th>\n",
       "      <th>n_dormitorios</th>\n",
       "      <th>n_baños</th>\n",
       "      <th>precio/metro2</th>\n",
       "    </tr>\n",
       "  </thead>\n",
       "  <tbody>\n",
       "    <tr>\n",
       "      <th>count</th>\n",
       "      <td>4168.000000</td>\n",
       "      <td>4168.000000</td>\n",
       "      <td>4168.000000</td>\n",
       "      <td>4168.000000</td>\n",
       "      <td>4168.000000</td>\n",
       "    </tr>\n",
       "    <tr>\n",
       "      <th>mean</th>\n",
       "      <td>682.548944</td>\n",
       "      <td>82.871401</td>\n",
       "      <td>2.265355</td>\n",
       "      <td>1.380038</td>\n",
       "      <td>9.815071</td>\n",
       "    </tr>\n",
       "    <tr>\n",
       "      <th>std</th>\n",
       "      <td>2567.944714</td>\n",
       "      <td>64.365939</td>\n",
       "      <td>1.945040</td>\n",
       "      <td>0.554671</td>\n",
       "      <td>40.868485</td>\n",
       "    </tr>\n",
       "    <tr>\n",
       "      <th>min</th>\n",
       "      <td>1.000000</td>\n",
       "      <td>1.000000</td>\n",
       "      <td>1.000000</td>\n",
       "      <td>1.000000</td>\n",
       "      <td>0.000667</td>\n",
       "    </tr>\n",
       "    <tr>\n",
       "      <th>25%</th>\n",
       "      <td>450.000000</td>\n",
       "      <td>60.000000</td>\n",
       "      <td>1.000000</td>\n",
       "      <td>1.000000</td>\n",
       "      <td>6.000000</td>\n",
       "    </tr>\n",
       "    <tr>\n",
       "      <th>50%</th>\n",
       "      <td>575.000000</td>\n",
       "      <td>75.000000</td>\n",
       "      <td>2.000000</td>\n",
       "      <td>1.000000</td>\n",
       "      <td>7.911392</td>\n",
       "    </tr>\n",
       "    <tr>\n",
       "      <th>75%</th>\n",
       "      <td>750.000000</td>\n",
       "      <td>95.000000</td>\n",
       "      <td>3.000000</td>\n",
       "      <td>2.000000</td>\n",
       "      <td>10.000000</td>\n",
       "    </tr>\n",
       "    <tr>\n",
       "      <th>max</th>\n",
       "      <td>165000.000000</td>\n",
       "      <td>2000.000000</td>\n",
       "      <td>90.000000</td>\n",
       "      <td>6.000000</td>\n",
       "      <td>1853.932584</td>\n",
       "    </tr>\n",
       "  </tbody>\n",
       "</table>\n",
       "</div>"
      ],
      "text/plain": [
       "              precio  metros_cuadrados  n_dormitorios      n_baños  \\\n",
       "count    4168.000000       4168.000000    4168.000000  4168.000000   \n",
       "mean      682.548944         82.871401       2.265355     1.380038   \n",
       "std      2567.944714         64.365939       1.945040     0.554671   \n",
       "min         1.000000          1.000000       1.000000     1.000000   \n",
       "25%       450.000000         60.000000       1.000000     1.000000   \n",
       "50%       575.000000         75.000000       2.000000     1.000000   \n",
       "75%       750.000000         95.000000       3.000000     2.000000   \n",
       "max    165000.000000       2000.000000      90.000000     6.000000   \n",
       "\n",
       "       precio/metro2  \n",
       "count    4168.000000  \n",
       "mean        9.815071  \n",
       "std        40.868485  \n",
       "min         0.000667  \n",
       "25%         6.000000  \n",
       "50%         7.911392  \n",
       "75%        10.000000  \n",
       "max      1853.932584  "
      ]
     },
     "execution_count": 38,
     "metadata": {},
     "output_type": "execute_result"
    }
   ],
   "source": [
    "df.describe()"
   ]
  },
  {
   "cell_type": "markdown",
   "id": "binary-priest",
   "metadata": {},
   "source": [
    "El máximo de precio es de 165K para alquiler, cosa que no tiene mucho sentido. Vamos a fijarnos en los precios más altos del dataset:"
   ]
  },
  {
   "cell_type": "markdown",
   "id": "corresponding-license",
   "metadata": {},
   "source": [
    "Al consultar el anuncio, comprobamos que se trata de una venta, no de un alquiler. Es decir, es un anuncio mal puesto, así que lo eliminamos del dataset:"
   ]
  },
  {
   "cell_type": "markdown",
   "id": "functioning-broadcast",
   "metadata": {},
   "source": [
    "Se agrupa por localización y se ordena por €/metro_cuadrado de menor a mayor, en el siguiente bloque nos fijamos en las 20 localizaciones más caras por metro cuadrado de españa para alquiler en milanuncios."
   ]
  },
  {
   "cell_type": "code",
   "execution_count": 39,
   "id": "diverse-national",
   "metadata": {},
   "outputs": [
    {
     "name": "stdout",
     "output_type": "stream",
     "text": [
      "percentil top 1% en número de dormitorios: 5.0\n",
      "percentil top 1% en número de baños: 3.0\n",
      "percentil top 1% en metros cuadrados: 200.0\n",
      "percentil top 1% en precio: 1900.0\n"
     ]
    }
   ],
   "source": [
    "ndq99 = df[\"n_dormitorios\"].quantile(0.99)\n",
    "nbq99 = df[\"n_baños\"].quantile(0.99)\n",
    "mcq99 = df[\"metros_cuadrados\"].quantile(0.99)\n",
    "pq99 = df[\"precio\"].quantile(0.99)\n",
    "print(f'percentil top 1% en número de dormitorios: {ndq99}')\n",
    "print(f'percentil top 1% en número de baños: {nbq99}')\n",
    "print(f'percentil top 1% en metros cuadrados: {mcq99}')\n",
    "print(f'percentil top 1% en precio: {pq99}')"
   ]
  },
  {
   "cell_type": "markdown",
   "id": "helpful-estimate",
   "metadata": {},
   "source": [
    "Eliminamos los outliers para el posterior modelo preliminar:"
   ]
  },
  {
   "cell_type": "code",
   "execution_count": 44,
   "id": "relevant-soldier",
   "metadata": {},
   "outputs": [
    {
     "name": "stdout",
     "output_type": "stream",
     "text": [
      "4168\n",
      "4152\n",
      "4154\n",
      "4130\n",
      "4129\n"
     ]
    }
   ],
   "source": [
    "print(len(df))\n",
    "print(len(df[df[\"n_dormitorios\"]<=ndq99]))\n",
    "print(len(df[df[\"n_baños\"]<=nbq99]))\n",
    "print(len(df[df[\"metros_cuadrados\"]<=mcq99]))\n",
    "print(len(df[df[\"precio\"]<=pq99]))"
   ]
  },
  {
   "cell_type": "code",
   "execution_count": 45,
   "id": "single-spider",
   "metadata": {},
   "outputs": [],
   "source": [
    "df = df[df[\"precio\"]<=pq99]"
   ]
  },
  {
   "cell_type": "code",
   "execution_count": 46,
   "id": "tracked-driving",
   "metadata": {},
   "outputs": [
    {
     "data": {
      "text/html": [
       "<div>\n",
       "<style scoped>\n",
       "    .dataframe tbody tr th:only-of-type {\n",
       "        vertical-align: middle;\n",
       "    }\n",
       "\n",
       "    .dataframe tbody tr th {\n",
       "        vertical-align: top;\n",
       "    }\n",
       "\n",
       "    .dataframe thead th {\n",
       "        text-align: right;\n",
       "    }\n",
       "</style>\n",
       "<table border=\"1\" class=\"dataframe\">\n",
       "  <thead>\n",
       "    <tr style=\"text-align: right;\">\n",
       "      <th></th>\n",
       "      <th>precio</th>\n",
       "      <th>metros_cuadrados</th>\n",
       "      <th>n_dormitorios</th>\n",
       "      <th>n_baños</th>\n",
       "      <th>precio/metro2</th>\n",
       "    </tr>\n",
       "    <tr>\n",
       "      <th>location</th>\n",
       "      <th></th>\n",
       "      <th></th>\n",
       "      <th></th>\n",
       "      <th></th>\n",
       "      <th></th>\n",
       "    </tr>\n",
       "  </thead>\n",
       "  <tbody>\n",
       "    <tr>\n",
       "      <th>CHIPIONA</th>\n",
       "      <td>1.000000</td>\n",
       "      <td>80.000000</td>\n",
       "      <td>3.000000</td>\n",
       "      <td>2.00000</td>\n",
       "      <td>0.012500</td>\n",
       "    </tr>\n",
       "    <tr>\n",
       "      <th>VILA SECA DE SOLCINA/VILASECA</th>\n",
       "      <td>40.000000</td>\n",
       "      <td>60.000000</td>\n",
       "      <td>1.000000</td>\n",
       "      <td>1.00000</td>\n",
       "      <td>0.666667</td>\n",
       "    </tr>\n",
       "    <tr>\n",
       "      <th>CONIL DE LA FRONTERA</th>\n",
       "      <td>40.000000</td>\n",
       "      <td>55.000000</td>\n",
       "      <td>2.000000</td>\n",
       "      <td>1.00000</td>\n",
       "      <td>0.727273</td>\n",
       "    </tr>\n",
       "    <tr>\n",
       "      <th>BARRIADA FAÑABE</th>\n",
       "      <td>780.000000</td>\n",
       "      <td>999.000000</td>\n",
       "      <td>3.000000</td>\n",
       "      <td>2.00000</td>\n",
       "      <td>0.780781</td>\n",
       "    </tr>\n",
       "    <tr>\n",
       "      <th>GUADALUPE</th>\n",
       "      <td>200.000000</td>\n",
       "      <td>120.000000</td>\n",
       "      <td>4.000000</td>\n",
       "      <td>2.00000</td>\n",
       "      <td>1.666667</td>\n",
       "    </tr>\n",
       "    <tr>\n",
       "      <th>...</th>\n",
       "      <td>...</td>\n",
       "      <td>...</td>\n",
       "      <td>...</td>\n",
       "      <td>...</td>\n",
       "      <td>...</td>\n",
       "    </tr>\n",
       "    <tr>\n",
       "      <th>PALMANOVA</th>\n",
       "      <td>1700.000000</td>\n",
       "      <td>100.000000</td>\n",
       "      <td>2.000000</td>\n",
       "      <td>2.00000</td>\n",
       "      <td>17.000000</td>\n",
       "    </tr>\n",
       "    <tr>\n",
       "      <th>CANDELARIA (S.C. PALMA)</th>\n",
       "      <td>1200.000000</td>\n",
       "      <td>70.000000</td>\n",
       "      <td>1.000000</td>\n",
       "      <td>1.00000</td>\n",
       "      <td>17.142857</td>\n",
       "    </tr>\n",
       "    <tr>\n",
       "      <th>SANTA PONÇA</th>\n",
       "      <td>600.000000</td>\n",
       "      <td>35.000000</td>\n",
       "      <td>1.000000</td>\n",
       "      <td>1.00000</td>\n",
       "      <td>17.142857</td>\n",
       "    </tr>\n",
       "    <tr>\n",
       "      <th>CÓRDOBA</th>\n",
       "      <td>563.623188</td>\n",
       "      <td>81.057971</td>\n",
       "      <td>2.304348</td>\n",
       "      <td>1.42029</td>\n",
       "      <td>20.046630</td>\n",
       "    </tr>\n",
       "    <tr>\n",
       "      <th>IRÚN</th>\n",
       "      <td>912.500000</td>\n",
       "      <td>40.250000</td>\n",
       "      <td>2.250000</td>\n",
       "      <td>1.50000</td>\n",
       "      <td>307.430556</td>\n",
       "    </tr>\n",
       "  </tbody>\n",
       "</table>\n",
       "<p>429 rows × 5 columns</p>\n",
       "</div>"
      ],
      "text/plain": [
       "                                    precio  metros_cuadrados  n_dormitorios  \\\n",
       "location                                                                      \n",
       "CHIPIONA                          1.000000         80.000000       3.000000   \n",
       "VILA SECA DE SOLCINA/VILASECA    40.000000         60.000000       1.000000   \n",
       "CONIL DE LA FRONTERA             40.000000         55.000000       2.000000   \n",
       "BARRIADA FAÑABE                 780.000000        999.000000       3.000000   \n",
       "GUADALUPE                       200.000000        120.000000       4.000000   \n",
       "...                                    ...               ...            ...   \n",
       "PALMANOVA                      1700.000000        100.000000       2.000000   \n",
       "CANDELARIA (S.C. PALMA)        1200.000000         70.000000       1.000000   \n",
       "SANTA PONÇA                     600.000000         35.000000       1.000000   \n",
       "CÓRDOBA                         563.623188         81.057971       2.304348   \n",
       "IRÚN                            912.500000         40.250000       2.250000   \n",
       "\n",
       "                               n_baños  precio/metro2  \n",
       "location                                               \n",
       "CHIPIONA                       2.00000       0.012500  \n",
       "VILA SECA DE SOLCINA/VILASECA  1.00000       0.666667  \n",
       "CONIL DE LA FRONTERA           1.00000       0.727273  \n",
       "BARRIADA FAÑABE                2.00000       0.780781  \n",
       "GUADALUPE                      2.00000       1.666667  \n",
       "...                                ...            ...  \n",
       "PALMANOVA                      2.00000      17.000000  \n",
       "CANDELARIA (S.C. PALMA)        1.00000      17.142857  \n",
       "SANTA PONÇA                    1.00000      17.142857  \n",
       "CÓRDOBA                        1.42029      20.046630  \n",
       "IRÚN                           1.50000     307.430556  \n",
       "\n",
       "[429 rows x 5 columns]"
      ]
     },
     "execution_count": 46,
     "metadata": {},
     "output_type": "execute_result"
    }
   ],
   "source": [
    "df_location = df.groupby(['location']).mean().sort_values('precio/metro2')\n",
    "df_location"
   ]
  },
  {
   "cell_type": "code",
   "execution_count": 47,
   "id": "utility-photography",
   "metadata": {},
   "outputs": [
    {
     "data": {
      "text/html": [
       "<div>\n",
       "<style scoped>\n",
       "    .dataframe tbody tr th:only-of-type {\n",
       "        vertical-align: middle;\n",
       "    }\n",
       "\n",
       "    .dataframe tbody tr th {\n",
       "        vertical-align: top;\n",
       "    }\n",
       "\n",
       "    .dataframe thead th {\n",
       "        text-align: right;\n",
       "    }\n",
       "</style>\n",
       "<table border=\"1\" class=\"dataframe\">\n",
       "  <thead>\n",
       "    <tr style=\"text-align: right;\">\n",
       "      <th></th>\n",
       "      <th>precio</th>\n",
       "      <th>metros_cuadrados</th>\n",
       "      <th>n_dormitorios</th>\n",
       "      <th>n_baños</th>\n",
       "      <th>precio/metro2</th>\n",
       "    </tr>\n",
       "    <tr>\n",
       "      <th>location</th>\n",
       "      <th></th>\n",
       "      <th></th>\n",
       "      <th></th>\n",
       "      <th></th>\n",
       "      <th></th>\n",
       "    </tr>\n",
       "  </thead>\n",
       "  <tbody>\n",
       "    <tr>\n",
       "      <th>SABADELL</th>\n",
       "      <td>591.666667</td>\n",
       "      <td>43.333333</td>\n",
       "      <td>1.333333</td>\n",
       "      <td>1.000000</td>\n",
       "      <td>13.703704</td>\n",
       "    </tr>\n",
       "    <tr>\n",
       "      <th>PUERTO DEL CARMEN</th>\n",
       "      <td>550.000000</td>\n",
       "      <td>40.000000</td>\n",
       "      <td>1.000000</td>\n",
       "      <td>1.000000</td>\n",
       "      <td>13.750000</td>\n",
       "    </tr>\n",
       "    <tr>\n",
       "      <th>ARGUINEGUIN</th>\n",
       "      <td>550.000000</td>\n",
       "      <td>40.000000</td>\n",
       "      <td>1.000000</td>\n",
       "      <td>1.000000</td>\n",
       "      <td>13.750000</td>\n",
       "    </tr>\n",
       "    <tr>\n",
       "      <th>ARENALES DEL SOL</th>\n",
       "      <td>900.000000</td>\n",
       "      <td>65.000000</td>\n",
       "      <td>2.000000</td>\n",
       "      <td>2.000000</td>\n",
       "      <td>13.846154</td>\n",
       "    </tr>\n",
       "    <tr>\n",
       "      <th>IBIZA / EIVISSA</th>\n",
       "      <td>1395.000000</td>\n",
       "      <td>104.200000</td>\n",
       "      <td>3.200000</td>\n",
       "      <td>1.600000</td>\n",
       "      <td>13.895655</td>\n",
       "    </tr>\n",
       "    <tr>\n",
       "      <th>MADRID</th>\n",
       "      <td>863.885167</td>\n",
       "      <td>70.459330</td>\n",
       "      <td>1.947368</td>\n",
       "      <td>1.306220</td>\n",
       "      <td>13.981445</td>\n",
       "    </tr>\n",
       "    <tr>\n",
       "      <th>SANT CUGAT DEL VALLES</th>\n",
       "      <td>1190.000000</td>\n",
       "      <td>96.000000</td>\n",
       "      <td>4.000000</td>\n",
       "      <td>1.500000</td>\n",
       "      <td>14.004963</td>\n",
       "    </tr>\n",
       "    <tr>\n",
       "      <th>CALVIA</th>\n",
       "      <td>1006.666667</td>\n",
       "      <td>68.333333</td>\n",
       "      <td>1.333333</td>\n",
       "      <td>1.333333</td>\n",
       "      <td>14.066667</td>\n",
       "    </tr>\n",
       "    <tr>\n",
       "      <th>ALBORAYA</th>\n",
       "      <td>1100.000000</td>\n",
       "      <td>75.000000</td>\n",
       "      <td>2.000000</td>\n",
       "      <td>2.000000</td>\n",
       "      <td>14.666667</td>\n",
       "    </tr>\n",
       "    <tr>\n",
       "      <th>LA PLAYA</th>\n",
       "      <td>680.000000</td>\n",
       "      <td>46.000000</td>\n",
       "      <td>1.000000</td>\n",
       "      <td>1.000000</td>\n",
       "      <td>14.782609</td>\n",
       "    </tr>\n",
       "    <tr>\n",
       "      <th>PLAYA DE BURRERRO</th>\n",
       "      <td>1500.000000</td>\n",
       "      <td>100.000000</td>\n",
       "      <td>3.000000</td>\n",
       "      <td>2.000000</td>\n",
       "      <td>15.000000</td>\n",
       "    </tr>\n",
       "    <tr>\n",
       "      <th>BENASQUE</th>\n",
       "      <td>600.000000</td>\n",
       "      <td>40.000000</td>\n",
       "      <td>2.000000</td>\n",
       "      <td>1.000000</td>\n",
       "      <td>15.000000</td>\n",
       "    </tr>\n",
       "    <tr>\n",
       "      <th>SAN SEBASTIAN DE LOS REYES</th>\n",
       "      <td>770.000000</td>\n",
       "      <td>50.000000</td>\n",
       "      <td>1.000000</td>\n",
       "      <td>1.000000</td>\n",
       "      <td>15.400000</td>\n",
       "    </tr>\n",
       "    <tr>\n",
       "      <th>SANTA EULARIA DES RIU</th>\n",
       "      <td>800.000000</td>\n",
       "      <td>50.000000</td>\n",
       "      <td>1.000000</td>\n",
       "      <td>1.000000</td>\n",
       "      <td>16.000000</td>\n",
       "    </tr>\n",
       "    <tr>\n",
       "      <th>BARCELONA</th>\n",
       "      <td>1185.373333</td>\n",
       "      <td>74.973333</td>\n",
       "      <td>2.293333</td>\n",
       "      <td>1.386667</td>\n",
       "      <td>16.221789</td>\n",
       "    </tr>\n",
       "    <tr>\n",
       "      <th>PALMANOVA</th>\n",
       "      <td>1700.000000</td>\n",
       "      <td>100.000000</td>\n",
       "      <td>2.000000</td>\n",
       "      <td>2.000000</td>\n",
       "      <td>17.000000</td>\n",
       "    </tr>\n",
       "    <tr>\n",
       "      <th>CANDELARIA (S.C. PALMA)</th>\n",
       "      <td>1200.000000</td>\n",
       "      <td>70.000000</td>\n",
       "      <td>1.000000</td>\n",
       "      <td>1.000000</td>\n",
       "      <td>17.142857</td>\n",
       "    </tr>\n",
       "    <tr>\n",
       "      <th>SANTA PONÇA</th>\n",
       "      <td>600.000000</td>\n",
       "      <td>35.000000</td>\n",
       "      <td>1.000000</td>\n",
       "      <td>1.000000</td>\n",
       "      <td>17.142857</td>\n",
       "    </tr>\n",
       "    <tr>\n",
       "      <th>CÓRDOBA</th>\n",
       "      <td>563.623188</td>\n",
       "      <td>81.057971</td>\n",
       "      <td>2.304348</td>\n",
       "      <td>1.420290</td>\n",
       "      <td>20.046630</td>\n",
       "    </tr>\n",
       "    <tr>\n",
       "      <th>IRÚN</th>\n",
       "      <td>912.500000</td>\n",
       "      <td>40.250000</td>\n",
       "      <td>2.250000</td>\n",
       "      <td>1.500000</td>\n",
       "      <td>307.430556</td>\n",
       "    </tr>\n",
       "  </tbody>\n",
       "</table>\n",
       "</div>"
      ],
      "text/plain": [
       "                                 precio  metros_cuadrados  n_dormitorios  \\\n",
       "location                                                                   \n",
       "SABADELL                     591.666667         43.333333       1.333333   \n",
       "PUERTO DEL CARMEN            550.000000         40.000000       1.000000   \n",
       "ARGUINEGUIN                  550.000000         40.000000       1.000000   \n",
       "ARENALES DEL SOL             900.000000         65.000000       2.000000   \n",
       "IBIZA / EIVISSA             1395.000000        104.200000       3.200000   \n",
       "MADRID                       863.885167         70.459330       1.947368   \n",
       "SANT CUGAT DEL VALLES       1190.000000         96.000000       4.000000   \n",
       "CALVIA                      1006.666667         68.333333       1.333333   \n",
       "ALBORAYA                    1100.000000         75.000000       2.000000   \n",
       "LA PLAYA                     680.000000         46.000000       1.000000   \n",
       "PLAYA DE BURRERRO           1500.000000        100.000000       3.000000   \n",
       "BENASQUE                     600.000000         40.000000       2.000000   \n",
       "SAN SEBASTIAN DE LOS REYES   770.000000         50.000000       1.000000   \n",
       "SANTA EULARIA DES RIU        800.000000         50.000000       1.000000   \n",
       "BARCELONA                   1185.373333         74.973333       2.293333   \n",
       "PALMANOVA                   1700.000000        100.000000       2.000000   \n",
       "CANDELARIA (S.C. PALMA)     1200.000000         70.000000       1.000000   \n",
       "SANTA PONÇA                  600.000000         35.000000       1.000000   \n",
       "CÓRDOBA                      563.623188         81.057971       2.304348   \n",
       "IRÚN                         912.500000         40.250000       2.250000   \n",
       "\n",
       "                             n_baños  precio/metro2  \n",
       "location                                             \n",
       "SABADELL                    1.000000      13.703704  \n",
       "PUERTO DEL CARMEN           1.000000      13.750000  \n",
       "ARGUINEGUIN                 1.000000      13.750000  \n",
       "ARENALES DEL SOL            2.000000      13.846154  \n",
       "IBIZA / EIVISSA             1.600000      13.895655  \n",
       "MADRID                      1.306220      13.981445  \n",
       "SANT CUGAT DEL VALLES       1.500000      14.004963  \n",
       "CALVIA                      1.333333      14.066667  \n",
       "ALBORAYA                    2.000000      14.666667  \n",
       "LA PLAYA                    1.000000      14.782609  \n",
       "PLAYA DE BURRERRO           2.000000      15.000000  \n",
       "BENASQUE                    1.000000      15.000000  \n",
       "SAN SEBASTIAN DE LOS REYES  1.000000      15.400000  \n",
       "SANTA EULARIA DES RIU       1.000000      16.000000  \n",
       "BARCELONA                   1.386667      16.221789  \n",
       "PALMANOVA                   2.000000      17.000000  \n",
       "CANDELARIA (S.C. PALMA)     1.000000      17.142857  \n",
       "SANTA PONÇA                 1.000000      17.142857  \n",
       "CÓRDOBA                     1.420290      20.046630  \n",
       "IRÚN                        1.500000     307.430556  "
      ]
     },
     "execution_count": 47,
     "metadata": {},
     "output_type": "execute_result"
    }
   ],
   "source": [
    "df_location.tail(20)"
   ]
  },
  {
   "cell_type": "markdown",
   "id": "official-champion",
   "metadata": {},
   "source": [
    "A continuación se muestra la esperable tendencia de aumento de precio con los metros_cuadrados de la vivienda.\n",
    "Además observamos que casi todos los pisos están por debajo de los 150 metros cuadrados "
   ]
  },
  {
   "cell_type": "code",
   "execution_count": 48,
   "id": "boolean-profession",
   "metadata": {},
   "outputs": [
    {
     "data": {
      "text/plain": [
       "<AxesSubplot:xlabel='metros_cuadrados', ylabel='precio'>"
      ]
     },
     "execution_count": 48,
     "metadata": {},
     "output_type": "execute_result"
    },
    {
     "data": {
      "image/png": "[encoded data removed]",
      "text/plain": [
       "<Figure size 432x288 with 1 Axes>"
      ]
     },
     "metadata": {
      "needs_background": "light"
     },
     "output_type": "display_data"
    }
   ],
   "source": [
    "import seaborn as sns\n",
    "sns.regplot(x='metros_cuadrados', y='precio', data=df[(df['precio']<2000)& (df['metros_cuadrados'] < 500)])\n",
    "                                                      "
   ]
  },
  {
   "cell_type": "markdown",
   "id": "large-preview",
   "metadata": {},
   "source": [
    "Vamos a obtener la misma gráfica pero para el número de dormitorios y el número de baños.\n",
    "También existe una correlación positiva entre el aumento de estas variables y el precio, sobretodo con el número de baños."
   ]
  },
  {
   "cell_type": "code",
   "execution_count": 49,
   "id": "vocational-providence",
   "metadata": {},
   "outputs": [
    {
     "data": {
      "text/plain": [
       "<AxesSubplot:xlabel='n_dormitorios', ylabel='precio'>"
      ]
     },
     "execution_count": 49,
     "metadata": {},
     "output_type": "execute_result"
    },
    {
     "data": {
      "image/png": "[encoded data removed]",
      "text/plain": [
       "<Figure size 432x288 with 1 Axes>"
      ]
     },
     "metadata": {
      "needs_background": "light"
     },
     "output_type": "display_data"
    }
   ],
   "source": [
    "sns.regplot(x='n_dormitorios', y='precio', data=df[(df['precio']<2000)& (df['n_dormitorios'] < 60)])"
   ]
  },
  {
   "cell_type": "code",
   "execution_count": 50,
   "id": "incorporated-provision",
   "metadata": {},
   "outputs": [
    {
     "data": {
      "text/plain": [
       "<AxesSubplot:xlabel='n_baños', ylabel='precio'>"
      ]
     },
     "execution_count": 50,
     "metadata": {},
     "output_type": "execute_result"
    },
    {
     "data": {
      "image/png": "[encoded data removed]",
      "text/plain": [
       "<Figure size 432x288 with 1 Axes>"
      ]
     },
     "metadata": {
      "needs_background": "light"
     },
     "output_type": "display_data"
    }
   ],
   "source": [
    "sns.regplot(x='n_baños', y='precio', data=df[(df['precio']<2000)& (df['n_baños'] < 60)])"
   ]
  },
  {
   "cell_type": "markdown",
   "id": "material-gnome",
   "metadata": {},
   "source": [
    "# Modeling"
   ]
  },
  {
   "cell_type": "code",
   "execution_count": 219,
   "id": "broken-satisfaction",
   "metadata": {},
   "outputs": [
    {
     "data": {
      "text/html": [
       "<div>\n",
       "<style scoped>\n",
       "    .dataframe tbody tr th:only-of-type {\n",
       "        vertical-align: middle;\n",
       "    }\n",
       "\n",
       "    .dataframe tbody tr th {\n",
       "        vertical-align: top;\n",
       "    }\n",
       "\n",
       "    .dataframe thead th {\n",
       "        text-align: right;\n",
       "    }\n",
       "</style>\n",
       "<table border=\"1\" class=\"dataframe\">\n",
       "  <thead>\n",
       "    <tr style=\"text-align: right;\">\n",
       "      <th></th>\n",
       "      <th>metros_cuadrados</th>\n",
       "      <th>n_dormitorios</th>\n",
       "      <th>n_baños</th>\n",
       "      <th>precio</th>\n",
       "    </tr>\n",
       "  </thead>\n",
       "  <tbody>\n",
       "    <tr>\n",
       "      <th>0</th>\n",
       "      <td>140</td>\n",
       "      <td>3</td>\n",
       "      <td>2</td>\n",
       "      <td>900</td>\n",
       "    </tr>\n",
       "    <tr>\n",
       "      <th>1</th>\n",
       "      <td>85</td>\n",
       "      <td>1</td>\n",
       "      <td>1</td>\n",
       "      <td>1020</td>\n",
       "    </tr>\n",
       "    <tr>\n",
       "      <th>2</th>\n",
       "      <td>70</td>\n",
       "      <td>3</td>\n",
       "      <td>1</td>\n",
       "      <td>690</td>\n",
       "    </tr>\n",
       "    <tr>\n",
       "      <th>3</th>\n",
       "      <td>80</td>\n",
       "      <td>3</td>\n",
       "      <td>2</td>\n",
       "      <td>625</td>\n",
       "    </tr>\n",
       "    <tr>\n",
       "      <th>4</th>\n",
       "      <td>72</td>\n",
       "      <td>2</td>\n",
       "      <td>1</td>\n",
       "      <td>900</td>\n",
       "    </tr>\n",
       "    <tr>\n",
       "      <th>5</th>\n",
       "      <td>104</td>\n",
       "      <td>3</td>\n",
       "      <td>2</td>\n",
       "      <td>550</td>\n",
       "    </tr>\n",
       "    <tr>\n",
       "      <th>6</th>\n",
       "      <td>95</td>\n",
       "      <td>3</td>\n",
       "      <td>1</td>\n",
       "      <td>800</td>\n",
       "    </tr>\n",
       "    <tr>\n",
       "      <th>7</th>\n",
       "      <td>60</td>\n",
       "      <td>1</td>\n",
       "      <td>1</td>\n",
       "      <td>550</td>\n",
       "    </tr>\n",
       "    <tr>\n",
       "      <th>8</th>\n",
       "      <td>60</td>\n",
       "      <td>2</td>\n",
       "      <td>1</td>\n",
       "      <td>550</td>\n",
       "    </tr>\n",
       "    <tr>\n",
       "      <th>9</th>\n",
       "      <td>60</td>\n",
       "      <td>1</td>\n",
       "      <td>1</td>\n",
       "      <td>890</td>\n",
       "    </tr>\n",
       "  </tbody>\n",
       "</table>\n",
       "</div>"
      ],
      "text/plain": [
       "   metros_cuadrados  n_dormitorios  n_baños  precio\n",
       "0               140              3        2     900\n",
       "1                85              1        1    1020\n",
       "2                70              3        1     690\n",
       "3                80              3        2     625\n",
       "4                72              2        1     900\n",
       "5               104              3        2     550\n",
       "6                95              3        1     800\n",
       "7                60              1        1     550\n",
       "8                60              2        1     550\n",
       "9                60              1        1     890"
      ]
     },
     "execution_count": 219,
     "metadata": {},
     "output_type": "execute_result"
    }
   ],
   "source": [
    "model_df = df[['metros_cuadrados', 'n_dormitorios', 'n_baños', 'precio']]\n",
    "model_df.head(10)"
   ]
  },
  {
   "cell_type": "code",
   "execution_count": 52,
   "id": "unexpected-outside",
   "metadata": {},
   "outputs": [],
   "source": [
    "from sklearn.model_selection import train_test_split\n",
    "X = model_df.iloc[:, :3]\n",
    "Y = model_df.iloc[:, 3]\n",
    "X_train, X_test, Y_train, Y_test = train_test_split(X, Y, test_size=0.2, random_state=0)"
   ]
  },
  {
   "cell_type": "code",
   "execution_count": 53,
   "id": "interested-walnut",
   "metadata": {},
   "outputs": [
    {
     "name": "stdout",
     "output_type": "stream",
     "text": [
      "Coefficients:[6.77658397e-02 1.95278641e+00 1.47753659e+02]\n"
     ]
    }
   ],
   "source": [
    "from sklearn import linear_model\n",
    "reg = linear_model.LinearRegression()\n",
    "reg.fit(X_train, Y_train)\n",
    "print(f'Coefficients:{reg.coef_}')"
   ]
  },
  {
   "cell_type": "code",
   "execution_count": 54,
   "id": "raising-beauty",
   "metadata": {},
   "outputs": [
    {
     "name": "stdout",
     "output_type": "stream",
     "text": [
      "Mean squared Error: 65592.76190153304\n",
      "R2 Score: 0.0969622168191252\n"
     ]
    }
   ],
   "source": [
    "from sklearn.metrics import mean_squared_error, r2_score\n",
    "Y_pred = reg.predict(X_test) \n",
    "print(f'Mean squared Error: {mean_squared_error(Y_test, Y_pred)}')\n",
    "print(f'R2 Score: {r2_score(Y_test, Y_pred)}')"
   ]
  },
  {
   "cell_type": "code",
   "execution_count": 66,
   "id": "faced-bicycle",
   "metadata": {},
   "outputs": [
    {
     "data": {
      "text/plain": [
       "[<matplotlib.lines.Line2D at 0x7fcca8563e20>]"
      ]
     },
     "execution_count": 66,
     "metadata": {},
     "output_type": "execute_result"
    },
    {
     "data": {
      "image/png": "[encoded data removed]",
      "text/plain": [
       "<Figure size 432x288 with 1 Axes>"
      ]
     },
     "metadata": {
      "needs_background": "light"
     },
     "output_type": "display_data"
    }
   ],
   "source": [
    "import matplotlib.pyplot as plt\n",
    "import numpy as np\n",
    "\n",
    "plt.scatter(Y_test, Y_pred)\n",
    "plt.plot(np.linspace(0, 1750, 100),np.linspace(0, 1750, 100), color='red')"
   ]
  },
  {
   "cell_type": "markdown",
   "id": "explicit-vegetable",
   "metadata": {},
   "source": [
    "Este simple modelo lineal claramente sufre de underfitting, y no tiene suficiente complejidad para realizar predicciones"
   ]
  },
  {
   "cell_type": "markdown",
   "id": "incorporate-hacker",
   "metadata": {},
   "source": [
    "## Model with Location"
   ]
  },
  {
   "cell_type": "code",
   "execution_count": 355,
   "id": "bored-breast",
   "metadata": {},
   "outputs": [],
   "source": [
    "model_df_2 = df[['metros_cuadrados', 'n_dormitorios', 'n_baños', 'precio', 'location']]"
   ]
  },
  {
   "cell_type": "markdown",
   "id": "personalized-healing",
   "metadata": {},
   "source": [
    "Eliminamos las localizaciones con pocos puntos de datos, nos quedamos solo en las que haya más de 100 ofertas."
   ]
  },
  {
   "cell_type": "code",
   "execution_count": 356,
   "id": "supported-valentine",
   "metadata": {},
   "outputs": [
    {
     "data": {
      "text/plain": [
       "location\n",
       "LAVIADA                   1\n",
       "EL ROQUE (S. MIGUEL)      1\n",
       "EL SUCULUM                1\n",
       "TEJINA DE ISORA           1\n",
       "EL VERGER                 1\n",
       "                       ... \n",
       "VALENCIA                155\n",
       "ALICANTE/ALACANT        185\n",
       "MADRID                  218\n",
       "SEVILLA                 226\n",
       "CIUDAD REAL             440\n",
       "Name: name, Length: 431, dtype: int64"
      ]
     },
     "execution_count": 356,
     "metadata": {},
     "output_type": "execute_result"
    }
   ],
   "source": [
    "df_count = df.groupby(['location']).count().sort_values('name')['name']\n",
    "df_count"
   ]
  },
  {
   "cell_type": "code",
   "execution_count": 357,
   "id": "conceptual-dream",
   "metadata": {},
   "outputs": [
    {
     "data": {
      "text/plain": [
       "201"
      ]
     },
     "execution_count": 357,
     "metadata": {},
     "output_type": "execute_result"
    }
   ],
   "source": [
    "df_count.where(df_count <= 1).count()"
   ]
  },
  {
   "cell_type": "code",
   "execution_count": 358,
   "id": "sustained-stuart",
   "metadata": {},
   "outputs": [
    {
     "data": {
      "text/plain": [
       "383"
      ]
     },
     "execution_count": 358,
     "metadata": {},
     "output_type": "execute_result"
    }
   ],
   "source": [
    "df_count.where(df_count <= 15).count()"
   ]
  },
  {
   "cell_type": "code",
   "execution_count": 359,
   "id": "broadband-rotation",
   "metadata": {},
   "outputs": [
    {
     "data": {
      "text/plain": [
       "8"
      ]
     },
     "execution_count": 359,
     "metadata": {},
     "output_type": "execute_result"
    }
   ],
   "source": [
    "df_count.where(df_count > 100).count()"
   ]
  },
  {
   "cell_type": "code",
   "execution_count": 360,
   "id": "proud-partition",
   "metadata": {},
   "outputs": [
    {
     "data": {
      "text/plain": [
       "1626.0"
      ]
     },
     "execution_count": 360,
     "metadata": {},
     "output_type": "execute_result"
    }
   ],
   "source": [
    "sum(df_count.where(df_count > 100).dropna())"
   ]
  },
  {
   "cell_type": "code",
   "execution_count": 361,
   "id": "miniature-times",
   "metadata": {},
   "outputs": [
    {
     "data": {
      "text/plain": [
       "Index(['SALAMANCA', 'ZARAGOZA', 'CÓRDOBA', 'VALENCIA', 'ALICANTE/ALACANT',\n",
       "       'MADRID', 'SEVILLA', 'CIUDAD REAL'],\n",
       "      dtype='object', name='location')"
      ]
     },
     "execution_count": 361,
     "metadata": {},
     "output_type": "execute_result"
    }
   ],
   "source": [
    "locations = df_count.where(df_count > 100).dropna().index\n",
    "locations"
   ]
  },
  {
   "cell_type": "code",
   "execution_count": 362,
   "id": "demographic-assessment",
   "metadata": {},
   "outputs": [
    {
     "data": {
      "text/html": [
       "<div>\n",
       "<style scoped>\n",
       "    .dataframe tbody tr th:only-of-type {\n",
       "        vertical-align: middle;\n",
       "    }\n",
       "\n",
       "    .dataframe tbody tr th {\n",
       "        vertical-align: top;\n",
       "    }\n",
       "\n",
       "    .dataframe thead th {\n",
       "        text-align: right;\n",
       "    }\n",
       "</style>\n",
       "<table border=\"1\" class=\"dataframe\">\n",
       "  <thead>\n",
       "    <tr style=\"text-align: right;\">\n",
       "      <th></th>\n",
       "      <th>metros_cuadrados</th>\n",
       "      <th>n_dormitorios</th>\n",
       "      <th>n_baños</th>\n",
       "      <th>precio</th>\n",
       "      <th>location</th>\n",
       "    </tr>\n",
       "  </thead>\n",
       "  <tbody>\n",
       "    <tr>\n",
       "      <th>1</th>\n",
       "      <td>85.0</td>\n",
       "      <td>1.0</td>\n",
       "      <td>1.0</td>\n",
       "      <td>1020.0</td>\n",
       "      <td>MADRID</td>\n",
       "    </tr>\n",
       "    <tr>\n",
       "      <th>9</th>\n",
       "      <td>60.0</td>\n",
       "      <td>1.0</td>\n",
       "      <td>1.0</td>\n",
       "      <td>890.0</td>\n",
       "      <td>MADRID</td>\n",
       "    </tr>\n",
       "    <tr>\n",
       "      <th>12</th>\n",
       "      <td>75.0</td>\n",
       "      <td>2.0</td>\n",
       "      <td>1.0</td>\n",
       "      <td>1100.0</td>\n",
       "      <td>MADRID</td>\n",
       "    </tr>\n",
       "    <tr>\n",
       "      <th>13</th>\n",
       "      <td>75.0</td>\n",
       "      <td>2.0</td>\n",
       "      <td>1.0</td>\n",
       "      <td>1000.0</td>\n",
       "      <td>MADRID</td>\n",
       "    </tr>\n",
       "    <tr>\n",
       "      <th>14</th>\n",
       "      <td>66.0</td>\n",
       "      <td>1.0</td>\n",
       "      <td>1.0</td>\n",
       "      <td>850.0</td>\n",
       "      <td>MADRID</td>\n",
       "    </tr>\n",
       "    <tr>\n",
       "      <th>...</th>\n",
       "      <td>...</td>\n",
       "      <td>...</td>\n",
       "      <td>...</td>\n",
       "      <td>...</td>\n",
       "      <td>...</td>\n",
       "    </tr>\n",
       "    <tr>\n",
       "      <th>4507</th>\n",
       "      <td>119.0</td>\n",
       "      <td>4.0</td>\n",
       "      <td>2.0</td>\n",
       "      <td>770.0</td>\n",
       "      <td>VALENCIA</td>\n",
       "    </tr>\n",
       "    <tr>\n",
       "      <th>4515</th>\n",
       "      <td>90.0</td>\n",
       "      <td>3.0</td>\n",
       "      <td>2.0</td>\n",
       "      <td>350.0</td>\n",
       "      <td>CIUDAD REAL</td>\n",
       "    </tr>\n",
       "    <tr>\n",
       "      <th>4516</th>\n",
       "      <td>70.0</td>\n",
       "      <td>2.0</td>\n",
       "      <td>1.0</td>\n",
       "      <td>400.0</td>\n",
       "      <td>CIUDAD REAL</td>\n",
       "    </tr>\n",
       "    <tr>\n",
       "      <th>4517</th>\n",
       "      <td>60.0</td>\n",
       "      <td>1.0</td>\n",
       "      <td>1.0</td>\n",
       "      <td>250.0</td>\n",
       "      <td>CIUDAD REAL</td>\n",
       "    </tr>\n",
       "    <tr>\n",
       "      <th>4518</th>\n",
       "      <td>130.0</td>\n",
       "      <td>4.0</td>\n",
       "      <td>2.0</td>\n",
       "      <td>850.0</td>\n",
       "      <td>ALICANTE/ALACANT</td>\n",
       "    </tr>\n",
       "  </tbody>\n",
       "</table>\n",
       "<p>1626 rows × 5 columns</p>\n",
       "</div>"
      ],
      "text/plain": [
       "      metros_cuadrados  n_dormitorios  n_baños  precio          location\n",
       "1                 85.0            1.0      1.0  1020.0            MADRID\n",
       "9                 60.0            1.0      1.0   890.0            MADRID\n",
       "12                75.0            2.0      1.0  1100.0            MADRID\n",
       "13                75.0            2.0      1.0  1000.0            MADRID\n",
       "14                66.0            1.0      1.0   850.0            MADRID\n",
       "...                ...            ...      ...     ...               ...\n",
       "4507             119.0            4.0      2.0   770.0          VALENCIA\n",
       "4515              90.0            3.0      2.0   350.0       CIUDAD REAL\n",
       "4516              70.0            2.0      1.0   400.0       CIUDAD REAL\n",
       "4517              60.0            1.0      1.0   250.0       CIUDAD REAL\n",
       "4518             130.0            4.0      2.0   850.0  ALICANTE/ALACANT\n",
       "\n",
       "[1626 rows x 5 columns]"
      ]
     },
     "execution_count": 362,
     "metadata": {},
     "output_type": "execute_result"
    }
   ],
   "source": [
    "model_df_2 = model_df_2.where(model_df_2.location.isin(locations)).dropna()\n",
    "model_df_2"
   ]
  },
  {
   "cell_type": "code",
   "execution_count": 363,
   "id": "black-fountain",
   "metadata": {},
   "outputs": [
    {
     "data": {
      "text/html": [
       "<div>\n",
       "<style scoped>\n",
       "    .dataframe tbody tr th:only-of-type {\n",
       "        vertical-align: middle;\n",
       "    }\n",
       "\n",
       "    .dataframe tbody tr th {\n",
       "        vertical-align: top;\n",
       "    }\n",
       "\n",
       "    .dataframe thead th {\n",
       "        text-align: right;\n",
       "    }\n",
       "</style>\n",
       "<table border=\"1\" class=\"dataframe\">\n",
       "  <thead>\n",
       "    <tr style=\"text-align: right;\">\n",
       "      <th></th>\n",
       "      <th>ALICANTE/ALACANT</th>\n",
       "      <th>CIUDAD REAL</th>\n",
       "      <th>CÓRDOBA</th>\n",
       "      <th>MADRID</th>\n",
       "      <th>SALAMANCA</th>\n",
       "      <th>SEVILLA</th>\n",
       "      <th>VALENCIA</th>\n",
       "      <th>ZARAGOZA</th>\n",
       "    </tr>\n",
       "  </thead>\n",
       "  <tbody>\n",
       "    <tr>\n",
       "      <th>1</th>\n",
       "      <td>0</td>\n",
       "      <td>0</td>\n",
       "      <td>0</td>\n",
       "      <td>1</td>\n",
       "      <td>0</td>\n",
       "      <td>0</td>\n",
       "      <td>0</td>\n",
       "      <td>0</td>\n",
       "    </tr>\n",
       "    <tr>\n",
       "      <th>9</th>\n",
       "      <td>0</td>\n",
       "      <td>0</td>\n",
       "      <td>0</td>\n",
       "      <td>1</td>\n",
       "      <td>0</td>\n",
       "      <td>0</td>\n",
       "      <td>0</td>\n",
       "      <td>0</td>\n",
       "    </tr>\n",
       "    <tr>\n",
       "      <th>12</th>\n",
       "      <td>0</td>\n",
       "      <td>0</td>\n",
       "      <td>0</td>\n",
       "      <td>1</td>\n",
       "      <td>0</td>\n",
       "      <td>0</td>\n",
       "      <td>0</td>\n",
       "      <td>0</td>\n",
       "    </tr>\n",
       "    <tr>\n",
       "      <th>13</th>\n",
       "      <td>0</td>\n",
       "      <td>0</td>\n",
       "      <td>0</td>\n",
       "      <td>1</td>\n",
       "      <td>0</td>\n",
       "      <td>0</td>\n",
       "      <td>0</td>\n",
       "      <td>0</td>\n",
       "    </tr>\n",
       "    <tr>\n",
       "      <th>14</th>\n",
       "      <td>0</td>\n",
       "      <td>0</td>\n",
       "      <td>0</td>\n",
       "      <td>1</td>\n",
       "      <td>0</td>\n",
       "      <td>0</td>\n",
       "      <td>0</td>\n",
       "      <td>0</td>\n",
       "    </tr>\n",
       "  </tbody>\n",
       "</table>\n",
       "</div>"
      ],
      "text/plain": [
       "    ALICANTE/ALACANT  CIUDAD REAL  CÓRDOBA  MADRID  SALAMANCA  SEVILLA  \\\n",
       "1                  0            0        0       1          0        0   \n",
       "9                  0            0        0       1          0        0   \n",
       "12                 0            0        0       1          0        0   \n",
       "13                 0            0        0       1          0        0   \n",
       "14                 0            0        0       1          0        0   \n",
       "\n",
       "    VALENCIA  ZARAGOZA  \n",
       "1          0         0  \n",
       "9          0         0  \n",
       "12         0         0  \n",
       "13         0         0  \n",
       "14         0         0  "
      ]
     },
     "execution_count": 363,
     "metadata": {},
     "output_type": "execute_result"
    }
   ],
   "source": [
    "dummy_location = pd.get_dummies(model_df_2['location'])\n",
    "dummy_location.head()"
   ]
  },
  {
   "cell_type": "code",
   "execution_count": 364,
   "id": "dress-entity",
   "metadata": {},
   "outputs": [
    {
     "data": {
      "text/html": [
       "<div>\n",
       "<style scoped>\n",
       "    .dataframe tbody tr th:only-of-type {\n",
       "        vertical-align: middle;\n",
       "    }\n",
       "\n",
       "    .dataframe tbody tr th {\n",
       "        vertical-align: top;\n",
       "    }\n",
       "\n",
       "    .dataframe thead th {\n",
       "        text-align: right;\n",
       "    }\n",
       "</style>\n",
       "<table border=\"1\" class=\"dataframe\">\n",
       "  <thead>\n",
       "    <tr style=\"text-align: right;\">\n",
       "      <th></th>\n",
       "      <th>metros_cuadrados</th>\n",
       "      <th>n_dormitorios</th>\n",
       "      <th>n_baños</th>\n",
       "      <th>precio</th>\n",
       "      <th>ALICANTE/ALACANT</th>\n",
       "      <th>CIUDAD REAL</th>\n",
       "      <th>CÓRDOBA</th>\n",
       "      <th>MADRID</th>\n",
       "      <th>SALAMANCA</th>\n",
       "      <th>SEVILLA</th>\n",
       "      <th>VALENCIA</th>\n",
       "      <th>ZARAGOZA</th>\n",
       "    </tr>\n",
       "  </thead>\n",
       "  <tbody>\n",
       "    <tr>\n",
       "      <th>1</th>\n",
       "      <td>85</td>\n",
       "      <td>1</td>\n",
       "      <td>1</td>\n",
       "      <td>1020</td>\n",
       "      <td>0</td>\n",
       "      <td>0</td>\n",
       "      <td>0</td>\n",
       "      <td>1</td>\n",
       "      <td>0</td>\n",
       "      <td>0</td>\n",
       "      <td>0</td>\n",
       "      <td>0</td>\n",
       "    </tr>\n",
       "    <tr>\n",
       "      <th>9</th>\n",
       "      <td>60</td>\n",
       "      <td>1</td>\n",
       "      <td>1</td>\n",
       "      <td>890</td>\n",
       "      <td>0</td>\n",
       "      <td>0</td>\n",
       "      <td>0</td>\n",
       "      <td>1</td>\n",
       "      <td>0</td>\n",
       "      <td>0</td>\n",
       "      <td>0</td>\n",
       "      <td>0</td>\n",
       "    </tr>\n",
       "    <tr>\n",
       "      <th>12</th>\n",
       "      <td>75</td>\n",
       "      <td>2</td>\n",
       "      <td>1</td>\n",
       "      <td>1100</td>\n",
       "      <td>0</td>\n",
       "      <td>0</td>\n",
       "      <td>0</td>\n",
       "      <td>1</td>\n",
       "      <td>0</td>\n",
       "      <td>0</td>\n",
       "      <td>0</td>\n",
       "      <td>0</td>\n",
       "    </tr>\n",
       "    <tr>\n",
       "      <th>13</th>\n",
       "      <td>75</td>\n",
       "      <td>2</td>\n",
       "      <td>1</td>\n",
       "      <td>1000</td>\n",
       "      <td>0</td>\n",
       "      <td>0</td>\n",
       "      <td>0</td>\n",
       "      <td>1</td>\n",
       "      <td>0</td>\n",
       "      <td>0</td>\n",
       "      <td>0</td>\n",
       "      <td>0</td>\n",
       "    </tr>\n",
       "    <tr>\n",
       "      <th>14</th>\n",
       "      <td>66</td>\n",
       "      <td>1</td>\n",
       "      <td>1</td>\n",
       "      <td>850</td>\n",
       "      <td>0</td>\n",
       "      <td>0</td>\n",
       "      <td>0</td>\n",
       "      <td>1</td>\n",
       "      <td>0</td>\n",
       "      <td>0</td>\n",
       "      <td>0</td>\n",
       "      <td>0</td>\n",
       "    </tr>\n",
       "  </tbody>\n",
       "</table>\n",
       "</div>"
      ],
      "text/plain": [
       "    metros_cuadrados  n_dormitorios  n_baños  precio  ALICANTE/ALACANT  \\\n",
       "1                 85              1        1    1020                 0   \n",
       "9                 60              1        1     890                 0   \n",
       "12                75              2        1    1100                 0   \n",
       "13                75              2        1    1000                 0   \n",
       "14                66              1        1     850                 0   \n",
       "\n",
       "    CIUDAD REAL  CÓRDOBA  MADRID  SALAMANCA  SEVILLA  VALENCIA  ZARAGOZA  \n",
       "1             0        0       1          0        0         0         0  \n",
       "9             0        0       1          0        0         0         0  \n",
       "12            0        0       1          0        0         0         0  \n",
       "13            0        0       1          0        0         0         0  \n",
       "14            0        0       1          0        0         0         0  "
      ]
     },
     "execution_count": 364,
     "metadata": {},
     "output_type": "execute_result"
    }
   ],
   "source": [
    "model_df_2 = pd.merge(left=model_df, right=dummy_location, left_index=True, right_index=True)\n",
    "model_df_2.head()"
   ]
  },
  {
   "cell_type": "code",
   "execution_count": 365,
   "id": "simple-locking",
   "metadata": {},
   "outputs": [],
   "source": [
    "Y = model_df_2['precio']\n",
    "X = model_df_2.drop(columns=['precio'])\n",
    "X_train, X_test, Y_train, Y_test = train_test_split(X, Y, test_size=0.2, random_state=0)"
   ]
  },
  {
   "cell_type": "code",
   "execution_count": 366,
   "id": "fifth-scoop",
   "metadata": {},
   "outputs": [
    {
     "data": {
      "text/plain": [
       "LinearRegression()"
      ]
     },
     "execution_count": 366,
     "metadata": {},
     "output_type": "execute_result"
    }
   ],
   "source": [
    "reg = linear_model.LinearRegression()\n",
    "reg.fit(X_train, Y_train)\n",
    "#print(f'Coefficients:{reg.coef_}')"
   ]
  },
  {
   "cell_type": "code",
   "execution_count": 367,
   "id": "laughing-bumper",
   "metadata": {},
   "outputs": [
    {
     "name": "stdout",
     "output_type": "stream",
     "text": [
      "Mean squared Error: 66712.3872919935\n",
      "Root Mean squared Error: 258.2874121826178\n",
      "R2 Score: 0.33338396040527396\n"
     ]
    }
   ],
   "source": [
    "Y_pred = reg.predict(X_test) \n",
    "print(f'Mean squared Error: {mean_squared_error(Y_test, Y_pred)}')\n",
    "print(f'Root Mean squared Error: {mean_squared_error(Y_test, Y_pred, squared=False)}')\n",
    "print(f'R2 Score: {r2_score(Y_test, Y_pred)}')"
   ]
  },
  {
   "cell_type": "code",
   "execution_count": 368,
   "id": "bigger-colonial",
   "metadata": {},
   "outputs": [
    {
     "data": {
      "text/plain": [
       "[<matplotlib.lines.Line2D at 0x7fcca905ff70>]"
      ]
     },
     "execution_count": 368,
     "metadata": {},
     "output_type": "execute_result"
    },
    {
     "data": {
      "image/png": "[encoded data removed]",
      "text/plain": [
       "<Figure size 432x288 with 1 Axes>"
      ]
     },
     "metadata": {
      "needs_background": "light"
     },
     "output_type": "display_data"
    }
   ],
   "source": [
    "plt.scatter(Y_test, Y_pred)\n",
    "plt.plot(np.linspace(0, 1750, 100),np.linspace(0, 1750, 100), color='red')"
   ]
  },
  {
   "cell_type": "code",
   "execution_count": 369,
   "id": "played-injury",
   "metadata": {},
   "outputs": [
    {
     "data": {
      "text/plain": [
       "LinearRegression()"
      ]
     },
     "execution_count": 369,
     "metadata": {},
     "output_type": "execute_result"
    }
   ],
   "source": [
    "poly_reg = PolynomialFeatures(degree=2)\n",
    "X_poly = poly_reg.fit_transform(X_train)\n",
    "poly_reg.fit(X_poly, Y_train)\n",
    "lin_reg_2 = linear_model.LinearRegression()\n",
    "lin_reg_2.fit(X_poly, Y_train)\n",
    "#print(f'Coefficients:{lin_reg_2.coef_}')"
   ]
  },
  {
   "cell_type": "code",
   "execution_count": 370,
   "id": "adult-welding",
   "metadata": {},
   "outputs": [
    {
     "name": "stdout",
     "output_type": "stream",
     "text": [
      "Mean squared Error: 31779.902730508715\n",
      "Root Mean squared Error: 178.26918614979067\n",
      "R2 Score: 0.6824428901908017\n"
     ]
    }
   ],
   "source": [
    "X_test_poly = poly_reg.fit_transform(X_test)\n",
    "Y_pred_2 = lin_reg_2.predict(X_test_poly) \n",
    "print(f'Mean squared Error: {mean_squared_error(Y_test, Y_pred_2)}')\n",
    "print(f'Root Mean squared Error: {mean_squared_error(Y_test, Y_pred_2, squared=False)}')\n",
    "print(f'R2 Score: {r2_score(Y_test, Y_pred_2)}')"
   ]
  },
  {
   "cell_type": "code",
   "execution_count": 371,
   "id": "cross-robertson",
   "metadata": {},
   "outputs": [
    {
     "data": {
      "text/plain": [
       "[<matplotlib.lines.Line2D at 0x7fcceb1a75b0>]"
      ]
     },
     "execution_count": 371,
     "metadata": {},
     "output_type": "execute_result"
    },
    {
     "data": {
      "image/png": "[encoded data removed]",
      "text/plain": [
       "<Figure size 432x288 with 1 Axes>"
      ]
     },
     "metadata": {
      "needs_background": "light"
     },
     "output_type": "display_data"
    }
   ],
   "source": [
    "plt.scatter(Y_test, Y_pred_2)\n",
    "plt.plot(np.linspace(0, 1750, 100),np.linspace(0, 1750, 100), color='red')"
   ]
  },
  {
   "cell_type": "markdown",
   "id": "collect-hundred",
   "metadata": {},
   "source": [
    "### Modelo en CIUDAD REAL\n",
    "Es la ciudad en la que tenemos más datos\n",
    "Cómo funcionaría un modelo para esta ciudad en específico?"
   ]
  },
  {
   "cell_type": "code",
   "execution_count": 372,
   "id": "threaded-nitrogen",
   "metadata": {},
   "outputs": [
    {
     "data": {
      "text/html": [
       "<div>\n",
       "<style scoped>\n",
       "    .dataframe tbody tr th:only-of-type {\n",
       "        vertical-align: middle;\n",
       "    }\n",
       "\n",
       "    .dataframe tbody tr th {\n",
       "        vertical-align: top;\n",
       "    }\n",
       "\n",
       "    .dataframe thead th {\n",
       "        text-align: right;\n",
       "    }\n",
       "</style>\n",
       "<table border=\"1\" class=\"dataframe\">\n",
       "  <thead>\n",
       "    <tr style=\"text-align: right;\">\n",
       "      <th></th>\n",
       "      <th>metros_cuadrados</th>\n",
       "      <th>n_dormitorios</th>\n",
       "      <th>n_baños</th>\n",
       "      <th>precio</th>\n",
       "    </tr>\n",
       "  </thead>\n",
       "  <tbody>\n",
       "    <tr>\n",
       "      <th>1486</th>\n",
       "      <td>140.0</td>\n",
       "      <td>4.0</td>\n",
       "      <td>2.0</td>\n",
       "      <td>700.0</td>\n",
       "    </tr>\n",
       "    <tr>\n",
       "      <th>1489</th>\n",
       "      <td>70.0</td>\n",
       "      <td>2.0</td>\n",
       "      <td>2.0</td>\n",
       "      <td>500.0</td>\n",
       "    </tr>\n",
       "    <tr>\n",
       "      <th>1514</th>\n",
       "      <td>70.0</td>\n",
       "      <td>2.0</td>\n",
       "      <td>1.0</td>\n",
       "      <td>450.0</td>\n",
       "    </tr>\n",
       "    <tr>\n",
       "      <th>1517</th>\n",
       "      <td>70.0</td>\n",
       "      <td>2.0</td>\n",
       "      <td>1.0</td>\n",
       "      <td>430.0</td>\n",
       "    </tr>\n",
       "    <tr>\n",
       "      <th>1519</th>\n",
       "      <td>100.0</td>\n",
       "      <td>3.0</td>\n",
       "      <td>2.0</td>\n",
       "      <td>550.0</td>\n",
       "    </tr>\n",
       "    <tr>\n",
       "      <th>1521</th>\n",
       "      <td>70.0</td>\n",
       "      <td>2.0</td>\n",
       "      <td>2.0</td>\n",
       "      <td>460.0</td>\n",
       "    </tr>\n",
       "    <tr>\n",
       "      <th>1523</th>\n",
       "      <td>70.0</td>\n",
       "      <td>2.0</td>\n",
       "      <td>1.0</td>\n",
       "      <td>450.0</td>\n",
       "    </tr>\n",
       "    <tr>\n",
       "      <th>1542</th>\n",
       "      <td>100.0</td>\n",
       "      <td>3.0</td>\n",
       "      <td>2.0</td>\n",
       "      <td>580.0</td>\n",
       "    </tr>\n",
       "    <tr>\n",
       "      <th>1544</th>\n",
       "      <td>100.0</td>\n",
       "      <td>3.0</td>\n",
       "      <td>2.0</td>\n",
       "      <td>575.0</td>\n",
       "    </tr>\n",
       "    <tr>\n",
       "      <th>1549</th>\n",
       "      <td>50.0</td>\n",
       "      <td>1.0</td>\n",
       "      <td>1.0</td>\n",
       "      <td>280.0</td>\n",
       "    </tr>\n",
       "  </tbody>\n",
       "</table>\n",
       "</div>"
      ],
      "text/plain": [
       "      metros_cuadrados  n_dormitorios  n_baños  precio\n",
       "1486             140.0            4.0      2.0   700.0\n",
       "1489              70.0            2.0      2.0   500.0\n",
       "1514              70.0            2.0      1.0   450.0\n",
       "1517              70.0            2.0      1.0   430.0\n",
       "1519             100.0            3.0      2.0   550.0\n",
       "1521              70.0            2.0      2.0   460.0\n",
       "1523              70.0            2.0      1.0   450.0\n",
       "1542             100.0            3.0      2.0   580.0\n",
       "1544             100.0            3.0      2.0   575.0\n",
       "1549              50.0            1.0      1.0   280.0"
      ]
     },
     "execution_count": 372,
     "metadata": {},
     "output_type": "execute_result"
    }
   ],
   "source": [
    "model_df_cr = df.where(df['location']=='CIUDAD REAL')[['metros_cuadrados', 'n_dormitorios', 'n_baños', 'precio']]\n",
    "model_df_cr.dropna(inplace=True)\n",
    "model_df_cr.head(10)"
   ]
  },
  {
   "cell_type": "code",
   "execution_count": 373,
   "id": "broad-banner",
   "metadata": {},
   "outputs": [],
   "source": [
    "from sklearn.model_selection import train_test_split\n",
    "X = model_df_cr.iloc[:, :3]\n",
    "Y = model_df_cr.iloc[:, 3]\n",
    "X_train, X_test, Y_train, Y_test = train_test_split(X, Y, test_size=0.2, random_state=0)"
   ]
  },
  {
   "cell_type": "code",
   "execution_count": 374,
   "id": "yellow-shield",
   "metadata": {},
   "outputs": [
    {
     "name": "stdout",
     "output_type": "stream",
     "text": [
      "Coefficients:[ 0.09892751 56.40085959 51.57865363]\n"
     ]
    }
   ],
   "source": [
    "from sklearn import linear_model\n",
    "reg = linear_model.LinearRegression()\n",
    "reg.fit(X_train, Y_train)\n",
    "print(f'Coefficients:{reg.coef_}')"
   ]
  },
  {
   "cell_type": "code",
   "execution_count": 376,
   "id": "cross-vegetarian",
   "metadata": {},
   "outputs": [
    {
     "name": "stdout",
     "output_type": "stream",
     "text": [
      "Mean squared Error: 7285.223610658158\n",
      "Root Mean squared Error: 85.353521372338\n",
      "R2 Score: 0.5516136086862806\n"
     ]
    }
   ],
   "source": [
    "from sklearn.metrics import mean_squared_error, r2_score\n",
    "Y_pred = reg.predict(X_test) \n",
    "print(f'Mean squared Error: {mean_squared_error(Y_test, Y_pred)}')\n",
    "print(f'Root Mean squared Error: {mean_squared_error(Y_test, Y_pred, squared=False)}')\n",
    "print(f'R2 Score: {r2_score(Y_test, Y_pred)}')"
   ]
  },
  {
   "cell_type": "code",
   "execution_count": 377,
   "id": "integrated-christmas",
   "metadata": {},
   "outputs": [
    {
     "data": {
      "text/plain": [
       "[<matplotlib.lines.Line2D at 0x7fcca912f040>]"
      ]
     },
     "execution_count": 377,
     "metadata": {},
     "output_type": "execute_result"
    },
    {
     "data": {
      "image/png": "[encoded data removed]",
      "text/plain": [
       "<Figure size 432x288 with 1 Axes>"
      ]
     },
     "metadata": {
      "needs_background": "light"
     },
     "output_type": "display_data"
    }
   ],
   "source": [
    "import matplotlib.pyplot as plt\n",
    "import numpy as np\n",
    "\n",
    "plt.scatter(Y_test, Y_pred)\n",
    "plt.plot(np.linspace(0, 1750, 100),np.linspace(0, 1750, 100), color='red')"
   ]
  },
  {
   "cell_type": "code",
   "execution_count": 378,
   "id": "coral-remark",
   "metadata": {},
   "outputs": [
    {
     "name": "stdout",
     "output_type": "stream",
     "text": [
      "Coefficients:[ 0.00000000e+00  1.33414481e+00 -3.97646123e+01  1.30853401e+02\n",
      " -2.04875761e-03  1.44838102e-01 -7.05767347e-02  7.02035336e+00\n",
      "  1.74938534e+01 -4.08232983e+01]\n"
     ]
    }
   ],
   "source": [
    "from sklearn.preprocessing import PolynomialFeatures\n",
    "poly_reg = PolynomialFeatures(degree=2)\n",
    "X_poly = poly_reg.fit_transform(X_train)\n",
    "poly_reg.fit(X_poly, Y_train)\n",
    "lin_reg_2 = linear_model.LinearRegression()\n",
    "lin_reg_2.fit(X_poly, Y_train)\n",
    "print(f'Coefficients:{lin_reg_2.coef_}')"
   ]
  },
  {
   "cell_type": "code",
   "execution_count": 379,
   "id": "recorded-detector",
   "metadata": {},
   "outputs": [
    {
     "name": "stdout",
     "output_type": "stream",
     "text": [
      "Mean squared Error: 5794.407675946382\n",
      "Root Mean squared Error: 76.12100679803429\n",
      "R2 Score: 0.6433694164421955\n"
     ]
    }
   ],
   "source": [
    "X_test_poly = poly_reg.fit_transform(X_test)\n",
    "Y_pred_2 = lin_reg_2.predict(X_test_poly) \n",
    "print(f'Mean squared Error: {mean_squared_error(Y_test, Y_pred_2)}')\n",
    "print(f'Root Mean squared Error: {mean_squared_error(Y_test, Y_pred_2, squared=False)}')\n",
    "print(f'R2 Score: {r2_score(Y_test, Y_pred_2)}')"
   ]
  },
  {
   "cell_type": "code",
   "execution_count": 380,
   "id": "guilty-restaurant",
   "metadata": {},
   "outputs": [
    {
     "data": {
      "text/plain": [
       "[<matplotlib.lines.Line2D at 0x7fcca91fdee0>]"
      ]
     },
     "execution_count": 380,
     "metadata": {},
     "output_type": "execute_result"
    },
    {
     "data": {
      "image/png": "[encoded data removed]",
      "text/plain": [
       "<Figure size 432x288 with 1 Axes>"
      ]
     },
     "metadata": {
      "needs_background": "light"
     },
     "output_type": "display_data"
    }
   ],
   "source": [
    "plt.scatter(Y_test, Y_pred_2)\n",
    "plt.plot(np.linspace(0, 1750, 100),np.linspace(0, 1750, 100), color='red')"
   ]
  },
  {
   "cell_type": "code",
   "execution_count": 381,
   "id": "unique-healthcare",
   "metadata": {},
   "outputs": [
    {
     "name": "stdout",
     "output_type": "stream",
     "text": [
      "Coefficients:[ 0.00000000e+00  3.18179983e+00  1.34427129e+02 -4.05664307e+02\n",
      " -5.16290114e-02  1.39471046e+00  1.58018370e+00 -1.18244003e+02\n",
      "  9.73282262e+01  1.47468190e+02 -2.31999395e-07 -1.84437870e-03\n",
      "  2.71454687e-02  1.03321663e-01 -6.15742911e-01 -1.56733179e+00\n",
      "  2.16826397e+01 -4.79710945e+01  8.43963775e+01 -4.94619682e+01]\n"
     ]
    }
   ],
   "source": [
    "from sklearn.preprocessing import PolynomialFeatures\n",
    "poly_reg = PolynomialFeatures(degree=3)\n",
    "X_poly = poly_reg.fit_transform(X_train)\n",
    "poly_reg.fit(X_poly, Y_train)\n",
    "lin_reg_2 = linear_model.LinearRegression()\n",
    "lin_reg_2.fit(X_poly, Y_train)\n",
    "print(f'Coefficients:{lin_reg_2.coef_}')"
   ]
  },
  {
   "cell_type": "code",
   "execution_count": 382,
   "id": "anticipated-consolidation",
   "metadata": {},
   "outputs": [
    {
     "name": "stdout",
     "output_type": "stream",
     "text": [
      "Mean squared Error: 4696.061045903792\n",
      "Root Mean squared Error: 68.52781220718921\n",
      "R2 Score: 0.7109697686312328\n"
     ]
    }
   ],
   "source": [
    "X_test_poly = poly_reg.fit_transform(X_test)\n",
    "Y_pred_2 = lin_reg_2.predict(X_test_poly) \n",
    "print(f'Mean squared Error: {mean_squared_error(Y_test, Y_pred_2)}')\n",
    "print(f'Root Mean squared Error: {mean_squared_error(Y_test, Y_pred_2, squared=False)}')\n",
    "print(f'R2 Score: {r2_score(Y_test, Y_pred_2)}')"
   ]
  },
  {
   "cell_type": "code",
   "execution_count": 383,
   "id": "attempted-wilderness",
   "metadata": {},
   "outputs": [
    {
     "data": {
      "text/plain": [
       "[<matplotlib.lines.Line2D at 0x7fccc90b0820>]"
      ]
     },
     "execution_count": 383,
     "metadata": {},
     "output_type": "execute_result"
    },
    {
     "data": {
      "image/png": "[encoded data removed]",
      "text/plain": [
       "<Figure size 432x288 with 1 Axes>"
      ]
     },
     "metadata": {
      "needs_background": "light"
     },
     "output_type": "display_data"
    }
   ],
   "source": [
    "plt.scatter(Y_test, Y_pred_2)\n",
    "plt.plot(np.linspace(0, 1750, 100),np.linspace(0, 1750, 100), color='red')"
   ]
  }
 ],
 "metadata": {
  "kernelspec": {
   "display_name": "Python 3",
   "language": "python",
   "name": "python3"
  },
  "language_info": {
   "codemirror_mode": {
    "name": "ipython",
    "version": 3
   },
   "file_extension": ".py",
   "mimetype": "text/x-python",
   "name": "python",
   "nbconvert_exporter": "python",
   "pygments_lexer": "ipython3",
   "version": "3.8.8"
  }
 },
 "nbformat": 4,
 "nbformat_minor": 5
}
